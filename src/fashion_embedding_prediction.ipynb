{
 "cells": [
  {
   "cell_type": "markdown",
   "metadata": {},
   "source": [
    "# Next semantic embedding prediction with Autoencoders"
   ]
  },
  {
   "cell_type": "markdown",
   "metadata": {},
   "source": [
    "This notebooks contains a sample implementation of next embedding prediction using an Autoencoder architecture.\n",
    "- Given a set of N \"valid\" embeddings, the model will learn to generate the \"missing\" embedding given N-1 embeddings.\n",
    "    -  For example the training set could looks like:\n",
    "```code        \n",
    "                features           label\n",
    "            --------------     -----------\n",
    "example_1, [1,2,3],[3,4,5],...,[m-2,m-1,m]\n",
    "example_2, [1,2,3],[3,4,5],...,[m-2,m-1,m]\n",
    "...\n",
    "example_n, [1,2,3],[3,4,5],...,[m-2,m-1,m]\n",
    "```\n",
    "- The model will learn the implicit relation between the embeddings and produce reconstructued outputs in case some parts (embeddings) are missing.\n",
    "- This concept can be applied to very different settings, but in this example, we apply this idea for implement a basic \"Fashion - Complete your look\""
   ]
  },
  {
   "cell_type": "markdown",
   "metadata": {},
   "source": [
    "![demo](assets/demo.gif)\n",
    "\n",
    "The notebook contains the examples based on two datases:\n",
    " - Small - Using the `Fashion MNIST` dataset\n",
    " - Large - Using the `ChictopiaPlus10k` dataset"
   ]
  },
  {
   "cell_type": "markdown",
   "metadata": {},
   "source": [
    "## 0. Setup"
   ]
  },
  {
   "cell_type": "code",
   "execution_count": 19,
   "metadata": {
    "tags": []
   },
   "outputs": [],
   "source": [
    "#Run once, for Chictopia dataset, GPU is strongly recommended\n",
    "!pip install -r requirements.txt\n",
    "if not os.system(\"nvidia-smi -L | grep GPU | wc -l\"):\n",
    "    os.system(\"pip3 install torch torchvision torchaudio\") "
   ]
  },
  {
   "cell_type": "code",
   "execution_count": 5,
   "metadata": {
    "tags": []
   },
   "outputs": [],
   "source": [
    "import ast\n",
    "import os\n",
    "import logging\n",
    "import cv2\n",
    "import csv\n",
    "import glob\n",
    "import time\n",
    "import math\n",
    "import re\n",
    "import base64\n",
    "import io\n",
    "import random\n",
    "import shutil\n",
    "from itertools import permutations, product, combinations\n",
    "from pathlib import Path\n",
    "\n",
    "import chromadb\n",
    "import gradio as gr\n",
    "import pickle\n",
    "import numpy as np\n",
    "import matplotlib.pyplot as plt\n",
    "from PIL import Image, ImageDraw\n",
    "import pandas as pd\n",
    "import torch\n",
    "from torch import nn\n",
    "from torch.nn import Linear, Module, MSELoss, ReLU, Sequential, Sigmoid, Dropout\n",
    "from torch.optim import Adam\n",
    "from torch.utils.data import DataLoader, Dataset, TensorDataset\n",
    "from torchvision import datasets, transforms\n",
    "from torchvision.transforms import ToTensor, functional as F\n",
    "from vertexai.preview.generative_models import GenerativeModel, Part\n",
    "from google.cloud import vision, aiplatform\n",
    "from google.cloud import bigquery\n",
    "from google.protobuf import struct_pb2\n",
    "from tqdm import tqdm\n",
    "# https://github.com/christiansafka/img2vec/tree/master\n",
    "from img2vec_pytorch import Img2Vec\n",
    "from matplotlib.pyplot import close, figure, imshow, savefig, show, title\n",
    "import vertexai"
   ]
  },
  {
   "cell_type": "code",
   "execution_count": 6,
   "metadata": {
    "tags": []
   },
   "outputs": [],
   "source": [
    "#General settings\n",
    "PROJECT_ID = \"<TO_DO_DEVELOPER>\"\n",
    "LOCATION = \"<TO_DO_DEVELOPER>\"\n",
    "#Dataset for logging training data\n",
    "BQ_DATASET = \"fashion_predict\"\n",
    "BQ_TABLE = \"train\"\n",
    "TRAIN_FOLDER = \"train\"\n",
    "CROPPED_DIR = \"cropped\"\n",
    "EMB_FILE_NAME = \"emb.csv\"\n",
    "EMBEDDINGS_DIR = \"embeddings\"\n",
    "CHROMA_DIR = \"chromadb\"\n",
    "INFERENCE_DIR = \"inference\"\n",
    "TRAINING_SET_DIR_PREFIX = \"training_set_\"\n",
    "VERTEX = \"vertex\"\n",
    "LOCAL = \"local\"\n",
    "TRAINING_SET_FILE_NAME = \"train.csv\"\n",
    "AUGMENTATION_FACTOR = 3\n",
    "#Change accordingly to the embedding generator being used\n",
    "MM_EMB_DIMS = 512\n",
    "DATABASE_FILE = 'emb_kv_database.pkl'\n",
    "TOP_K = 3"
   ]
  },
  {
   "cell_type": "code",
   "execution_count": 7,
   "metadata": {
    "tags": []
   },
   "outputs": [],
   "source": [
    "#Fashion MNIST\n",
    "FASHION_MNIST_IMAGES_DIR = \"images_fmnist\"\n",
    "FASHION_MNIST_DATA_DIR = \"data\"\n",
    "CATEGORY = \"fashion\"\n",
    "LLM = \"gemini-pro\"\n",
    "MAX_OBJECTS = 10\n",
    "LABELS_MAP={\n",
    "    0: 'T-shirt/top',\n",
    "    1: 'Trouser',\n",
    "    2: 'Pullover',\n",
    "    3: 'Dress',\n",
    "    4: 'Coat',\n",
    "    5: 'Sandal',\n",
    "    6: 'Shirt',\n",
    "    7: 'Sneaker',\n",
    "    8: 'Bag',\n",
    "    9: 'Ankle Boot',\n",
    "}"
   ]
  },
  {
   "cell_type": "code",
   "execution_count": 8,
   "metadata": {
    "tags": []
   },
   "outputs": [],
   "source": [
    "#Chictopia Dataset\n",
    "CHICTOPIA_IMAGES_DIR = \"images_chictopia\"\n",
    "ORIGINAL_IMAGE_FORMAT = \"_image:png.png\"\n",
    "LABEL_IMAGE_FORMAT = \"_label_vis:png.png\"\n",
    "NUM_IMAGES = 23011\n",
    "#RGB Masks for semantic segmentation\n",
    "HAT = [255,255,98]\n",
    "UPPER_CLOTH = [215,68,0]\n",
    "PANTS = [0,95,213]\n",
    "SUNGLASSES = [0,214,255]\n",
    "BAG = [255,44,111]\n",
    "SKIRT = [0,128,41]\n",
    "DRESS =  [147,0,104]\n",
    "BELT = [255,203,181]\n",
    "LEFT_SHOE = [0,255,197]\n",
    "RIGHT_SHOE = [167,134,0]\n",
    "SCARF = [247,255,246]\n",
    "FASHION_ITEMS = { \"HAT\" : HAT, \n",
    "                 \"UPPER_CLOTH\" : UPPER_CLOTH, \n",
    "                 \"PANTS\" : PANTS ,\n",
    "                 \"SUNGLASSES\" : SUNGLASSES ,\n",
    "                 \"BAG\" : BAG ,\n",
    "                 \"SKIRT\" : SKIRT ,\n",
    "                 \"DRESS\" : DRESS ,\n",
    "                 \"BELT\" : BELT ,\n",
    "                 \"LEFT_SHOE\" : LEFT_SHOE ,\n",
    "                 \"RIGHT_SHOE\" : RIGHT_SHOE ,\n",
    "                 \"SCARF\" : SCARF }\n",
    "CL_WHITE = 255"
   ]
  },
  {
   "cell_type": "code",
   "execution_count": 9,
   "metadata": {
    "tags": []
   },
   "outputs": [],
   "source": [
    "logging.getLogger().setLevel(logging.INFO)"
   ]
  },
  {
   "cell_type": "code",
   "execution_count": 74,
   "metadata": {
    "tags": []
   },
   "outputs": [
    {
     "name": "stderr",
     "output_type": "stream",
     "text": [
      "INFO:root:Device setup to: cpu\n"
     ]
    }
   ],
   "source": [
    "#Checks GPUs\n",
    "for i in range(torch.cuda.device_count()):\n",
    "    properties = torch.cuda.get_device_properties(i)\n",
    "    logging.info(f\"GPU {i}: {properties.name}\")\n",
    "    GPU_INDEX = \"0\"\n",
    "dev = torch.device(\"cuda:\"+GPU_INDEX if torch.cuda.is_available() else \"cpu\")\n",
    "logging.info(f\"Device setup to: {dev}\")"
   ]
  },
  {
   "cell_type": "code",
   "execution_count": 19,
   "metadata": {
    "tags": []
   },
   "outputs": [],
   "source": [
    "def clear_env():\n",
    "    if os.path.isdir(CROPPED_DIR):\n",
    "        logging.info(f\"Deleting {CROPPED_DIR}\")\n",
    "        shutil.rmtree(CROPPED_DIR)\n",
    "    if os.path.isdir(EMBEDDINGS_DIR):\n",
    "        logging.info(f\"Deleting {EMBEDDINGS_DIR}\")\n",
    "        shutil.rmtree(EMBEDDINGS_DIR)\n",
    "    tr_dir = glob.glob(f\"{TRAINING_SET_DIR_PREFIX}*\")[0] if  glob.glob(f\"{TRAINING_SET_DIR_PREFIX}*\") else \"na\"\n",
    "    if os.path.isdir(tr_dir):\n",
    "        logging.info(f\"Deleting {tr_dir}\")\n",
    "        shutil.rmtree(tr_dir)\n",
    "    if os.path.isfile(DATABASE_FILE):\n",
    "        os.remove(DATABASE_FILE)\n",
    "    if os.path.isdir(FASHION_MNIST_DATA_DIR):\n",
    "        logging.info(f\"Deleting {FASHION_MNIST_DATA_DIR}\")\n",
    "        shutil.rmtree(FASHION_MNIST_DATA_DIR)\n",
    "    if os.path.isdir(FASHION_MNIST_IMAGES_DIR):\n",
    "        logging.info(f\"Deleting {FASHION_MNIST_IMAGES_DIR}\")\n",
    "        shutil.rmtree(FASHION_MNIST_IMAGES_DIR)\n",
    "    if os.path.isdir(CHICTOPIA_IMAGES_DIR):\n",
    "        logging.info(f\"Deleting {CHICTOPIA_IMAGES_DIR}\")\n",
    "        shutil.rmtree(CHICTOPIA_IMAGES_DIR)\n",
    "    if os.path.isdir(CHROMA_DIR):\n",
    "        logging.info(f\"Deleting {CHROMA_DIR}\")\n",
    "        shutil.rmtree(CHROMA_DIR)       \n",
    "    logging.info(f\"Env cleared\")"
   ]
  },
  {
   "cell_type": "code",
   "execution_count": 20,
   "metadata": {
    "tags": []
   },
   "outputs": [
    {
     "data": {
      "application/vnd.jupyter.widget-view+json": {
       "model_id": "ac9eb3be7fd34a1fa0765ef12aa1dab6",
       "version_major": 2,
       "version_minor": 0
      },
      "text/plain": [
       "Dropdown(options=('fashion_mnist', 'chictopia'), value='fashion_mnist')"
      ]
     },
     "metadata": {},
     "output_type": "display_data"
    }
   ],
   "source": [
    "from ipywidgets import widgets\n",
    "options_dataset = [\"fashion_mnist\", \"chictopia\"]\n",
    "dropdown = widgets.Dropdown(options=options_dataset) \n",
    "dataset = dropdown.value\n",
    "def on_change(change):\n",
    "    if change['type'] == 'change' and change['name'] == 'value':\n",
    "        dataset = change['new']\n",
    "    \n",
    "dropdown.observe(on_change)\n",
    "display(dropdown)"
   ]
  },
  {
   "cell_type": "code",
   "execution_count": 21,
   "metadata": {
    "tags": []
   },
   "outputs": [
    {
     "data": {
      "application/vnd.jupyter.widget-view+json": {
       "model_id": "492e8942a99e4fc9b94faaef91338a24",
       "version_major": 2,
       "version_minor": 0
      },
      "text/plain": [
       "Dropdown(options=('chroma', 'disk'), value='chroma')"
      ]
     },
     "metadata": {},
     "output_type": "display_data"
    }
   ],
   "source": [
    "from ipywidgets import widgets\n",
    "options_engine = [\"chroma\", \"disk\"]\n",
    "dropdown = widgets.Dropdown(options=options_engine) \n",
    "engine = dropdown.value\n",
    "def on_change(change):\n",
    "    if change['type'] == 'change' and change['name'] == 'value':\n",
    "        engine = change['new']\n",
    "    \n",
    "dropdown.observe(on_change)\n",
    "display(dropdown)"
   ]
  },
  {
   "cell_type": "markdown",
   "metadata": {},
   "source": [
    "Flags for quick iteration, set True or False to run specific pieces of the notebook"
   ]
  },
  {
   "cell_type": "code",
   "execution_count": 22,
   "metadata": {
    "tags": []
   },
   "outputs": [],
   "source": [
    "restart_flag = True\n",
    "preprocess_images_flag_fashion_mnist = True\n",
    "preprocess_images_chictopia_flag = False\n",
    "gen_embeddings_flag = True\n",
    "prepare_training_set_flag = True\n",
    "launch_train_flag = True\n",
    "load_saved_model = False\n",
    "if load_saved_model:\n",
    "    MODEL_TO_LOAD = \"<MODEL_PATH_HERE>\" \n",
    "    assert os.path.isfile(MODEL_TO_LOAD)\n",
    "else:    \n",
    "    MODEL_TO_LOAD = \"TRAIN\"\n",
    "lanch_ui_predict = True"
   ]
  },
  {
   "cell_type": "code",
   "execution_count": 23,
   "metadata": {
    "tags": []
   },
   "outputs": [
    {
     "name": "stderr",
     "output_type": "stream",
     "text": [
      "INFO:root:Deleting cropped\n",
      "INFO:root:Deleting embeddings\n",
      "INFO:root:Deleting training_set_20240103-134049\n",
      "INFO:root:Deleting data\n",
      "INFO:root:Deleting images_chictopia\n",
      "INFO:root:Deleting chromadb\n",
      "INFO:root:Env cleared\n"
     ]
    }
   ],
   "source": [
    "#Be careful with, it will wipe out ALL the environment\n",
    "if restart_flag:\n",
    "    clear_env()"
   ]
  },
  {
   "cell_type": "markdown",
   "metadata": {},
   "source": [
    "## 1. Data preparation"
   ]
  },
  {
   "cell_type": "markdown",
   "metadata": {
    "tags": []
   },
   "source": [
    "![dataprep](assets/data_prep.png)"
   ]
  },
  {
   "cell_type": "markdown",
   "metadata": {},
   "source": [
    "### 1.1 Example: Fashion MNIST"
   ]
  },
  {
   "cell_type": "markdown",
   "metadata": {},
   "source": [
    "- Fashion MNIST, do not provide  full fashion looks but particular garment pictures, so next code will generate random full fashion looks based on simple association rules (for a real world setting move directly to the ChictopiaPlus 10k dataset.\n",
    "\n",
    "- It can either generate full looks, appending a upper_body + lower_body + footwear or cropped looks"
   ]
  },
  {
   "cell_type": "code",
   "execution_count": 26,
   "metadata": {
    "tags": []
   },
   "outputs": [],
   "source": [
    "def gen_looks_complete_picture(train_data,num_looks):\n",
    "    logging.info(f\"Generating {num_looks} full looks\")\n",
    "    looks_generated = 0\n",
    "    IMAGE_FOLDER = \"images_fmnist\"\n",
    "    os.makedirs(IMAGE_FOLDER, exist_ok=True)\n",
    "    allowed_looks = [\n",
    "        ('T-shirt/top', 'Trouser', 'Sneaker'),\n",
    "        ('Pullover', 'Trouser', 'Sneaker'),\n",
    "        ('Shirt', 'Trouser', 'Ankle Boot'),\n",
    "        ('Coat', 'Trouser', 'sneaker'),\n",
    "        ('Coat', 'Trouser', 'Ankle Boot'),\n",
    "        ('Dress', 'Sandal', 'Bag'),\n",
    "        ('Dress', 'Ankle Boot', 'Bag')]\n",
    "    while looks_generated < num_looks:\n",
    "        upper_body_index, lower_body_index, footwear_index = random.sample(range(len(train_data)), 3)\n",
    "        upper_body_label = LABELS_MAP[train_data[upper_body_index][1]]\n",
    "        lower_body_label = LABELS_MAP[train_data[lower_body_index][1]]\n",
    "        footwear_label = LABELS_MAP[train_data[footwear_index][1]]\n",
    "        if (upper_body_label, lower_body_label, footwear_label) in allowed_looks:\n",
    "            looks_generated += 1\n",
    "            upper_body_image, _ = train_data[upper_body_index]\n",
    "            lower_body_image, _ = train_data[lower_body_index]\n",
    "            footwear_image, _ = train_data[footwear_index]\n",
    "            upper_body_np = upper_body_image.squeeze().numpy()\n",
    "            lower_body_np = lower_body_image.squeeze().numpy()\n",
    "            footwear_np = footwear_image.squeeze().numpy()\n",
    "            #Append look\n",
    "            combined_image = [upper_body_np, lower_body_np, footwear_np]\n",
    "            plt.figure(figsize=(3, 1))\n",
    "            plt.subplots_adjust(wspace=0, hspace=0)\n",
    "            for j, img in enumerate(combined_image, 1):\n",
    "                plt.subplot(1, 3, j)\n",
    "                plt.imshow(img, cmap='gray')\n",
    "                plt.axis('off')\n",
    "            plt.savefig(os.path.join(IMAGE_FOLDER, f'look_{looks_generated}.png'), bbox_inches='tight')\n",
    "            plt.close()\n",
    "            \n",
    "def gen_looks_cropped(train_data,num_looks):\n",
    "    logging.info(f\"Generating {num_looks} cropped looks\")\n",
    "    looks_generated = 0\n",
    "    os.makedirs(CROPPED_DIR, exist_ok=True)\n",
    "    allowed_looks = [\n",
    "        ('T-shirt/top', 'Trouser', 'Sneaker'),\n",
    "        ('Pullover', 'Trouser', 'Sneaker'),\n",
    "        ('Shirt', 'Trouser', 'Ankle Boot'),\n",
    "        ('Coat', 'Trouser', 'sneaker'),\n",
    "        ('Coat', 'Trouser', 'Ankle Boot'),\n",
    "        ('Dress', 'Sandal', 'Bag'),\n",
    "        ('Dress', 'Ankle Boot', 'Bag')]\n",
    "    while looks_generated < num_looks:\n",
    "        upper_body_index, lower_body_index, footwear_index = random.sample(range(len(train_data)), 3)\n",
    "        upper_body_label = LABELS_MAP[train_data[upper_body_index][1]]\n",
    "        lower_body_label = LABELS_MAP[train_data[lower_body_index][1]]\n",
    "        footwear_label = LABELS_MAP[train_data[footwear_index][1]]\n",
    "        if (upper_body_label, lower_body_label, footwear_label) in allowed_looks:\n",
    "            os.makedirs(os.path.join(CROPPED_DIR, f'look_{looks_generated}'), exist_ok=True)\n",
    "            \n",
    "            upper_body_image, _ = train_data[upper_body_index]\n",
    "            lower_body_image, _ = train_data[lower_body_index]\n",
    "            footwear_image, _ = train_data[footwear_index]\n",
    "            \n",
    "            save_path_upper = os.path.join(CROPPED_DIR, f'look_{looks_generated}', '0.png')\n",
    "            save_path_lower = os.path.join(CROPPED_DIR, f'look_{looks_generated}', '1.png')\n",
    "            save_path_footwear = os.path.join(CROPPED_DIR, f'look_{looks_generated}', '2.png')\n",
    "            \n",
    "            plt.imsave(save_path_upper, upper_body_image.squeeze().numpy(), cmap='gray')\n",
    "            plt.imsave(save_path_lower, lower_body_image.squeeze().numpy(), cmap='gray')\n",
    "            plt.imsave(save_path_footwear, footwear_image.squeeze().numpy(), cmap='gray')\n",
    "            looks_generated += 1\n",
    "            \n",
    "def get_fashion_mnist(mode=\"cropped\",num_looks=1000):\n",
    "    train_data= datasets.FashionMNIST(root='data', train=True, download=True, transform=ToTensor(),)\n",
    "    batch_size = 128\n",
    "    DataLoader(train_data, batch_size = batch_size)\n",
    "    if mode == \"cropped\":\n",
    "        gen_looks_cropped(train_data,num_looks)\n",
    "    elif mode == \"full\":\n",
    "        gen_looks_complete_picture(train_data,num_looks)\n",
    "    else:\n",
    "        logging.info(f\"Mode {mode} not suported\")            "
   ]
  },
  {
   "cell_type": "markdown",
   "metadata": {},
   "source": [
    "Next code block is responsible to detect and extract garment items for full looks, particulary interesting its the `_object_belongs_to_category`that uses a LLM to filter fashion items"
   ]
  },
  {
   "cell_type": "code",
   "execution_count": 27,
   "metadata": {
    "tags": []
   },
   "outputs": [],
   "source": [
    "def _localize_objects(path):\n",
    "    client = vision.ImageAnnotatorClient()\n",
    "    with open(path, \"rb\") as image_file:\n",
    "        content = image_file.read()\n",
    "    image = vision.Image(content=content)\n",
    "    objects = client.object_localization(image=image).localized_object_annotations\n",
    "    return objects\n",
    "\n",
    "def _append_id(path,index):\n",
    "    p = Path(path)\n",
    "    return \"{0}_{2}{1}\".format(Path.joinpath(p.parent, p.stem), p.suffix, index)\n",
    "\n",
    "def _object_belongs_to_category(object_name,category):\n",
    "    vertexai.init(project=PROJECT_ID, location=LOCATION)\n",
    "    model = GenerativeModel(LLM)\n",
    "    #Prevent quota exhasution\n",
    "    time.sleep(2)\n",
    "    response = model.generate_content(f\"Does the following item belongs to the {category} category?. Item is: {object_name}.Return ONLY True or False\", stream=False)\n",
    "    return eval(response.text)\n",
    "\n",
    "def _strip_picture(path,objects,category,inference):\n",
    "    for index,object in enumerate(objects):\n",
    "        if _object_belongs_to_category(object.name,category) and index < MAX_OBJECTS:\n",
    "            logging.info(f\"{object.name} item detected, stripping ...\")\n",
    "            vertices = object.bounding_poly.normalized_vertices\n",
    "            cropped_image = _crop_image(path,vertices)\n",
    "            _save_piece(path,cropped_image,index,inference)\n",
    "            \n",
    "def _crop_image(path,vertices):\n",
    "    image = cv2.imread(path)\n",
    "    (number_of_rows, number_of_columns) = image.shape[:2]\n",
    "    x0 = round(vertices[0].x * number_of_columns)\n",
    "    y0 = round(vertices[0].y * number_of_rows)\n",
    "    x1 = round(vertices[2].x * number_of_columns)\n",
    "    y1 = round(vertices[2].y * number_of_rows)\n",
    "    crop = image[y0:y1, x0:x1]\n",
    "    return crop\n",
    "    \n",
    "\n",
    "def _save_piece(path,img,index,inference):\n",
    "    filename = Path(path).stem\n",
    "    if inference:\n",
    "        directory = os.path.join(CROPPED_DIR,INFERENCE_DIR,filename)\n",
    "    else:\n",
    "        directory = os.path.join(CROPPED_DIR,filename)\n",
    "    Path(directory).mkdir(parents=True, exist_ok=True)\n",
    "    cv2.imwrite(f\"{directory}/{index}.jpg\", img)\n",
    "    logging.info(f\"Saved new image to {directory}/{index}.jpg\")\n",
    "    \n",
    "    \n",
    "def _extract_items_from_picture(path,category,inference):\n",
    "    logging.info(f\"Category to extract object is set to: {category}\")\n",
    "    objects = _localize_objects(path)\n",
    "    _strip_picture(path,objects,category,inference)\n",
    "    \n",
    "\n",
    "def preprocess_images_fashion_mnist(folder,category,inference=False):\n",
    "    for image_path in os.listdir(folder):\n",
    "        if not image_path.startswith('.'):\n",
    "            _extract_items_from_picture(os.path.join(folder,image_path),category,inference) "
   ]
  },
  {
   "cell_type": "code",
   "execution_count": 28,
   "metadata": {
    "tags": []
   },
   "outputs": [
    {
     "name": "stdout",
     "output_type": "stream",
     "text": [
      "Downloading http://fashion-mnist.s3-website.eu-central-1.amazonaws.com/train-images-idx3-ubyte.gz\n",
      "Downloading http://fashion-mnist.s3-website.eu-central-1.amazonaws.com/train-images-idx3-ubyte.gz to data/FashionMNIST/raw/train-images-idx3-ubyte.gz\n"
     ]
    },
    {
     "data": {
      "application/vnd.jupyter.widget-view+json": {
       "model_id": "c85009a6791d4324a79d1c2ce08d50b3",
       "version_major": 2,
       "version_minor": 0
      },
      "text/plain": [
       "  0%|          | 0/26421880 [00:00<?, ?it/s]"
      ]
     },
     "metadata": {},
     "output_type": "display_data"
    },
    {
     "name": "stdout",
     "output_type": "stream",
     "text": [
      "Extracting data/FashionMNIST/raw/train-images-idx3-ubyte.gz to data/FashionMNIST/raw\n",
      "\n",
      "Downloading http://fashion-mnist.s3-website.eu-central-1.amazonaws.com/train-labels-idx1-ubyte.gz\n",
      "Downloading http://fashion-mnist.s3-website.eu-central-1.amazonaws.com/train-labels-idx1-ubyte.gz to data/FashionMNIST/raw/train-labels-idx1-ubyte.gz\n"
     ]
    },
    {
     "data": {
      "application/vnd.jupyter.widget-view+json": {
       "model_id": "1b9fb6d93e7c4ec4a9c3eff36c79f5c9",
       "version_major": 2,
       "version_minor": 0
      },
      "text/plain": [
       "  0%|          | 0/29515 [00:00<?, ?it/s]"
      ]
     },
     "metadata": {},
     "output_type": "display_data"
    },
    {
     "name": "stdout",
     "output_type": "stream",
     "text": [
      "Extracting data/FashionMNIST/raw/train-labels-idx1-ubyte.gz to data/FashionMNIST/raw\n",
      "\n",
      "Downloading http://fashion-mnist.s3-website.eu-central-1.amazonaws.com/t10k-images-idx3-ubyte.gz\n",
      "Downloading http://fashion-mnist.s3-website.eu-central-1.amazonaws.com/t10k-images-idx3-ubyte.gz to data/FashionMNIST/raw/t10k-images-idx3-ubyte.gz\n"
     ]
    },
    {
     "data": {
      "application/vnd.jupyter.widget-view+json": {
       "model_id": "18999db7b95947c4a2c4767848135a48",
       "version_major": 2,
       "version_minor": 0
      },
      "text/plain": [
       "  0%|          | 0/4422102 [00:00<?, ?it/s]"
      ]
     },
     "metadata": {},
     "output_type": "display_data"
    },
    {
     "name": "stdout",
     "output_type": "stream",
     "text": [
      "Extracting data/FashionMNIST/raw/t10k-images-idx3-ubyte.gz to data/FashionMNIST/raw\n",
      "\n",
      "Downloading http://fashion-mnist.s3-website.eu-central-1.amazonaws.com/t10k-labels-idx1-ubyte.gz\n",
      "Downloading http://fashion-mnist.s3-website.eu-central-1.amazonaws.com/t10k-labels-idx1-ubyte.gz to data/FashionMNIST/raw/t10k-labels-idx1-ubyte.gz\n"
     ]
    },
    {
     "data": {
      "application/vnd.jupyter.widget-view+json": {
       "model_id": "4af4471379f94ef588ca30f431c870be",
       "version_major": 2,
       "version_minor": 0
      },
      "text/plain": [
       "  0%|          | 0/5148 [00:00<?, ?it/s]"
      ]
     },
     "metadata": {},
     "output_type": "display_data"
    },
    {
     "name": "stdout",
     "output_type": "stream",
     "text": [
      "Extracting data/FashionMNIST/raw/t10k-labels-idx1-ubyte.gz to data/FashionMNIST/raw\n",
      "\n"
     ]
    },
    {
     "name": "stderr",
     "output_type": "stream",
     "text": [
      "INFO:root:Generating 256 cropped looks\n",
      "INFO:root:Image preprocess completed\n"
     ]
    }
   ],
   "source": [
    "#Setup mode to \"cropped\" or \"full\"\n",
    "mode = \"cropped\"\n",
    "num_looks = 256\n",
    "if preprocess_images_flag_fashion_mnist:\n",
    "    get_fashion_mnist(mode,num_looks)\n",
    "    if mode == \"full\":\n",
    "        preprocess_images_fashion_mnist(FASHION_MNIST_IMAGES_DIR,CATEGORY)\n",
    "    logging.info(f\"Image preprocess completed\")    "
   ]
  },
  {
   "cell_type": "markdown",
   "metadata": {},
   "source": [
    "### 1.2 Example: ChictopiaPlus 10k"
   ]
  },
  {
   "cell_type": "markdown",
   "metadata": {},
   "source": [
    "Chictopia Dataset is [here](https://files.is.tue.mpg.de/classner/gp/), download it first and place it in a GCS bucket"
   ]
  },
  {
   "cell_type": "code",
   "execution_count": null,
   "metadata": {
    "tags": []
   },
   "outputs": [],
   "source": [
    "os.makedirs(CHICTOPIA_IMAGES_DIR, exist_ok=True)\n",
    "os.system(f\"gcloud storage cp gs://<TO_DO_DEVELOPER>/ChictopiaPlus.zip {CHICTOPIA_IMAGES_DIR}\")  \n",
    "os.system(f\"unzip {CHICTOPIA_IMAGES_DIR}/ChictopiaPlus.zip -d {CHICTOPIA_IMAGES_DIR} >/dev/null 2>&1\") "
   ]
  },
  {
   "cell_type": "code",
   "execution_count": null,
   "metadata": {
    "tags": []
   },
   "outputs": [],
   "source": [
    "#Cleaning, we only will process the train folder\n",
    "shutil.rmtree(os.path.join(CHICTOPIA_IMAGES_DIR,\"pose\"))\n",
    "shutil.rmtree(os.path.join(CHICTOPIA_IMAGES_DIR,\"test\"))\n",
    "shutil.rmtree(os.path.join(CHICTOPIA_IMAGES_DIR,\"val\"))\n",
    "os.system(f\"rm {CHICTOPIA_IMAGES_DIR}/train/*_segcolors.png >/dev/null 2>&1\")\n",
    "os.system(f\"rm {CHICTOPIA_IMAGES_DIR}/train/*.txt >/dev/null 2>&1\")\n",
    "os.system(f\"rm {CHICTOPIA_IMAGES_DIR}/train/*_bodysegments.png >/dev/null 2>&1\")\n",
    "os.system(f\"rm {CHICTOPIA_IMAGES_DIR}/train/*_bodysegments_vis.png >/dev/null 2>&1\")\n",
    "os.system(f\"rm {CHICTOPIA_IMAGES_DIR}/train/*_labels:png.png >/dev/null 2>&1\")"
   ]
  },
  {
   "cell_type": "markdown",
   "metadata": {},
   "source": [
    "Since the dataset its anotated with a semantic segmentation, we no longer need to use a Object Detection model to extract the garments, we will just \"filter\" the original image based on the fashion pixel values, then detect the contour of the image and extract the bounding box."
   ]
  },
  {
   "cell_type": "markdown",
   "metadata": {},
   "source": [
    "![chictopia](assets/chictopia.png)"
   ]
  },
  {
   "cell_type": "code",
   "execution_count": null,
   "metadata": {
    "tags": []
   },
   "outputs": [],
   "source": [
    "def extract_segment(image_id, target):\n",
    "    original_image = Image.open(os.path.join(CHICTOPIA_IMAGES_DIR,TRAIN_FOLDER,image_id+ORIGINAL_IMAGE_FORMAT))\n",
    "    segmentation_image = Image.open(os.path.join(CHICTOPIA_IMAGES_DIR,TRAIN_FOLDER,image_id+LABEL_IMAGE_FORMAT))\n",
    "    original_array = np.array(original_image)\n",
    "    segmentation_array = np.array(segmentation_image)\n",
    "    mask = np.all(segmentation_array == target, axis=-1)\n",
    "    extracted_portion = original_array.copy()\n",
    "    extracted_portion[~mask] = [255, 255, 255]  \n",
    "    result_image = Image.fromarray(extracted_portion)\n",
    "    return result_image\n",
    "\n",
    "def crop_object(image,image_id,only_contour=False):\n",
    "    image_array = np.array(image)\n",
    "    gray_array = cv2.cvtColor(image_array, cv2.COLOR_BGR2GRAY)\n",
    "    edges = cv2.Canny(gray_array, 50, 150)\n",
    "    dilated = cv2.dilate(edges, None, iterations=2)\n",
    "    eroded = cv2.erode(dilated, None, iterations=1)\n",
    "    contours, _ = cv2.findContours(eroded, cv2.RETR_EXTERNAL, cv2.CHAIN_APPROX_SIMPLE)\n",
    "    if contours:\n",
    "        largest_contour = max(contours, key=cv2.contourArea)\n",
    "        x, y, w, h = cv2.boundingRect(largest_contour)\n",
    "        if only_contour:\n",
    "            cropped_object = image.crop((x, y, x + w, y + h))\n",
    "        else:\n",
    "            original_image = Image.open(os.path.join(CHICTOPIA_IMAGES_DIR,TRAIN_FOLDER,image_id+ORIGINAL_IMAGE_FORMAT))\n",
    "            cropped_object = original_image.crop((x, y, x + w, y + h))\n",
    "        return cropped_object\n",
    "    else:\n",
    "        logging.info('Couldn detect countour')\n",
    "        return None\n",
    "\n",
    "def preprocess_images_chictopia(n=NUM_IMAGES):\n",
    "    for image in tqdm(range(n), desc=\"Processing images\", unit=\"image\"):\n",
    "        image_id = f\"{image:05d}\"\n",
    "        if not os.path.isdir(os.path.join(CROPPED_DIR,image_id)):\n",
    "            Path(os.path.join(CROPPED_DIR,image_id)).mkdir(parents=True, exist_ok=True)\n",
    "            for item in FASHION_ITEMS:\n",
    "                extracted_item = extract_segment(image_id, FASHION_ITEMS[item])\n",
    "                if not np.all(np.array(extracted_item) == CL_WHITE):\n",
    "                    cropped_object = crop_object(extracted_item,image_id)\n",
    "                    if cropped_object:\n",
    "                        cropped_object.save(os.path.join(CROPPED_DIR,image_id,item.lower()+\".png\"))\n",
    "        else:\n",
    "            logging.info(f\"{image_id} already processed\")"
   ]
  },
  {
   "cell_type": "code",
   "execution_count": null,
   "metadata": {
    "tags": []
   },
   "outputs": [],
   "source": [
    "if preprocess_images_chictopia_flag:\n",
    "    preprocess_images_chictopia()"
   ]
  },
  {
   "cell_type": "markdown",
   "metadata": {},
   "source": [
    "## 2.Training data generation"
   ]
  },
  {
   "cell_type": "markdown",
   "metadata": {},
   "source": [
    "### 2.1 Embedding generation "
   ]
  },
  {
   "cell_type": "markdown",
   "metadata": {},
   "source": [
    "The following code will go over each look, take each piece of fashion and generate a embedding, this can be done either using VertexAI (Multimodal API) or using a pretrained well-know model like ResNet or VGG.\n",
    "Once each embedding its generated, a subsequent process will aggreagate all emeddings for each look into a CVS file."
   ]
  },
  {
   "cell_type": "code",
   "execution_count": 29,
   "metadata": {
    "tags": []
   },
   "outputs": [],
   "source": [
    "def _get_local_embedding(path):\n",
    "    #logging.info(f\"Calculating embedding for {path} using local inference ...\")\n",
    "    #This is a OS package that extract the latest layer of some well know archs. (e.g. Resnet, VGG ..)\n",
    "    #Im using resnet 18, it ouputs a nice 512 embedding vector\n",
    "    img_to_vec = Img2Vec(cuda=torch.cuda.is_available(), model ='resnet-18')\n",
    "    img = Image.open(path).convert(\"RGB\")\n",
    "    embd_vector =  img_to_vec.get_vec(img, tensor=False)\n",
    "    return embd_vector.tolist()\n",
    "\n",
    "def _calculate_emb(path,mode=VERTEX):\n",
    "    if mode == VERTEX:\n",
    "        #This will output a larger vector of 1,408 dims\n",
    "        image = open(path, \"rb\")\n",
    "        image_bytes = image.read()\n",
    "        api_regional_endpoint = \"us-central1-aiplatform.googleapis.com\"\n",
    "        client_options = {\"api_endpoint\": api_regional_endpoint}\n",
    "        client = aiplatform.gapic.PredictionServiceClient(client_options=client_options)  \n",
    "        instance = struct_pb2.Struct()\n",
    "        encoded_content = base64.b64encode(image_bytes).decode(\"utf-8\")\n",
    "        image_struct = instance.fields['image'].struct_value\n",
    "        image_struct.fields['bytesBase64Encoded'].string_value = encoded_content\n",
    "        endpoint = (f\"projects/{PROJECT_ID}/locations/{LOCATION}/publishers/google/models/multimodalembedding@001\")\n",
    "        instances = [instance]\n",
    "        response = client.predict(endpoint=endpoint, instances=instances)\n",
    "        #Prevent quota exhaustion\n",
    "        time.sleep(2)\n",
    "        image_emb_value = response.predictions[0]['imageEmbedding']\n",
    "        image_embedding = [v for v in image_emb_value]\n",
    "    elif mode == LOCAL:\n",
    "        image_embedding = _get_local_embedding(path)\n",
    "    return image_embedding\n",
    "\n",
    "    \n",
    "def _save_emb(emb,image_set,piece,inference):\n",
    "    if inference:\n",
    "        directory = os.path.join(EMBEDDINGS_DIR,INFERENCE_DIR,image_set)\n",
    "    else:\n",
    "        directory = os.path.join(EMBEDDINGS_DIR,image_set)\n",
    "    Path(directory).mkdir(parents=True, exist_ok=True)\n",
    "    with open(os.path.join(directory,EMB_FILE_NAME), \"a\") as f:\n",
    "            csvwriter = csv.writer(f, delimiter='|',lineterminator='\\n')\n",
    "            csvwriter.writerow((piece, emb))\n",
    "\n",
    "\n",
    "def gen_embeddings(folder, inference=False, mode=VERTEX):\n",
    "    image_sets = [d for d in os.listdir(folder) if not d.startswith('.') and not d.startswith(INFERENCE_DIR)]\n",
    "    for image_set in tqdm(image_sets, desc=\"Processing image sets\", unit=\"set\"):\n",
    "        if not os.path.isdir(os.path.join(EMBEDDINGS_DIR,image_set)):\n",
    "            set_path = os.path.join(folder, image_set)\n",
    "            for piece in os.listdir(set_path):\n",
    "                if not piece.startswith('.'):\n",
    "                    emb = _calculate_emb(os.path.join(set_path, piece), mode)\n",
    "                    _save_emb(emb, image_set, piece, inference)\n",
    "       \n",
    "                            \n",
    "def postprocess_embeddings_folders(root_dir,threshold):\n",
    "    for folder_name in os.listdir(root_dir):\n",
    "        folder_path = os.path.join(root_dir, folder_name)\n",
    "        if os.path.isdir(folder_path):\n",
    "            csv_file_path = os.path.join(folder_path, EMB_FILE_NAME)\n",
    "            if os.path.isfile(csv_file_path):\n",
    "                with open(csv_file_path, 'r') as csv_file:\n",
    "                    csv_reader = csv.reader(csv_file)\n",
    "                    num_lines = sum(1 for _ in csv_reader)\n",
    "                if num_lines < threshold:\n",
    "                    logging.info(f\"Deleting folder: {folder_path}\")\n",
    "                    shutil.rmtree(folder_path)"
   ]
  },
  {
   "cell_type": "code",
   "execution_count": 30,
   "metadata": {
    "tags": []
   },
   "outputs": [
    {
     "name": "stderr",
     "output_type": "stream",
     "text": [
      "Processing image sets:   0%|          | 0/256 [00:00<?, ?set/s]/opt/conda/envs/pytorch/lib/python3.10/site-packages/torchvision/models/_utils.py:208: UserWarning: The parameter 'pretrained' is deprecated since 0.13 and may be removed in the future, please use 'weights' instead.\n",
      "  warnings.warn(\n",
      "/opt/conda/envs/pytorch/lib/python3.10/site-packages/torchvision/models/_utils.py:223: UserWarning: Arguments other than a weight enum or `None` for 'weights' are deprecated since 0.13 and may be removed in the future. The current behavior is equivalent to passing `weights=ResNet18_Weights.IMAGENET1K_V1`. You can also use `weights=ResNet18_Weights.DEFAULT` to get the most up-to-date weights.\n",
      "  warnings.warn(msg)\n",
      "Processing image sets: 100%|██████████| 256/256 [04:18<00:00,  1.01s/set]\n"
     ]
    }
   ],
   "source": [
    "#This is the minimun items that a look needs to have to be considered valid\n",
    "minum_required_items = 3\n",
    "#Setup to \"local\" for ResNet etc or \"vertex\" for multimodal API\n",
    "embedding_generator = LOCAL\n",
    "if gen_embeddings_flag:\n",
    "    gen_embeddings(CROPPED_DIR,False,embedding_generator)\n",
    "    postprocess_embeddings_folders(EMBEDDINGS_DIR,minum_required_items)"
   ]
  },
  {
   "cell_type": "markdown",
   "metadata": {
    "tags": []
   },
   "source": [
    "### 2.2 Training set post-processing"
   ]
  },
  {
   "cell_type": "code",
   "execution_count": 32,
   "metadata": {
    "tags": []
   },
   "outputs": [],
   "source": [
    "def prepare_training_set(emb_path):\n",
    "    training_set_dir = f\"{TRAINING_SET_DIR_PREFIX}{time.strftime('%Y%m%d-%H%M%S')}\"\n",
    "    Path(training_set_dir).mkdir(parents=True, exist_ok=True)\n",
    "    with open(os.path.join(training_set_dir, TRAINING_SET_FILE_NAME), \"w\") as training_file:\n",
    "        csvwriter = csv.writer(training_file, delimiter=\"|\",lineterminator='\\n')\n",
    "        for embset in os.listdir(emb_path):\n",
    "            if not embset.startswith('.') and not  embset.startswith(INFERENCE_DIR):\n",
    "                vectors_for_id = []\n",
    "                with open(os.path.join(emb_path, embset, EMB_FILE_NAME), \"r\") as f:\n",
    "                    #lineterminator='\\n' need for Win\n",
    "                    reader = csv.reader(f, delimiter=\"|\",lineterminator='\\n')\n",
    "                    for row in reader:\n",
    "                        for vector_string in row[1:]:\n",
    "                            vectors_for_id.append(ast.literal_eval(vector_string))\n",
    "                csvwriter.writerow([embset] + vectors_for_id)\n",
    "    return training_set_dir     "
   ]
  },
  {
   "cell_type": "code",
   "execution_count": 33,
   "metadata": {
    "tags": []
   },
   "outputs": [],
   "source": [
    "def get_max_items(folder, items_threshold):\n",
    "    max_count = 0\n",
    "    for folder_name in os.listdir(folder):\n",
    "        folder_path = os.path.join(folder, folder_name)\n",
    "        if os.path.isdir(folder_path):\n",
    "            count = len(glob.glob(os.path.join(folder_path, '*.png')))\n",
    "            if count < items_threshold:\n",
    "                logging.info(f\"Deleting {folder_path} with {count} items\")\n",
    "                shutil.rmtree(folder_path)\n",
    "            if count > max_count:\n",
    "                max_count = count\n",
    "    logging.info(f\"Max items is {max_count}\")\n",
    "    return max_count"
   ]
  },
  {
   "cell_type": "code",
   "execution_count": 34,
   "metadata": {
    "tags": []
   },
   "outputs": [
    {
     "name": "stderr",
     "output_type": "stream",
     "text": [
      "INFO:root:Max items is 3\n"
     ]
    }
   ],
   "source": [
    "if prepare_training_set_flag:\n",
    "    training_set_dir = prepare_training_set(EMBEDDINGS_DIR)\n",
    "else:\n",
    "    training_set_dir = os.path.normpath(max((os.path.join('.', d) for d in os.listdir('.') if d.startswith(TRAINING_SET_DIR_PREFIX) and os.path.isdir(os.path.join('.', d))), key=os.path.getmtime, default=None))\n",
    "items_threshold = 3\n",
    "MAX_ITEMS = get_max_items(CROPPED_DIR,3)    "
   ]
  },
  {
   "cell_type": "markdown",
   "metadata": {},
   "source": [
    "At this point, you should have the `training_set_%Y%m%d-%H%M%S/train.csv`similar to\n",
    "![train](assets/train.png)"
   ]
  },
  {
   "cell_type": "markdown",
   "metadata": {},
   "source": [
    "## 3. Catalog  generation"
   ]
  },
  {
   "cell_type": "markdown",
   "metadata": {},
   "source": [
    "The following code will generate a catalog of items, it will be the basis for seaching similar items on the prediction phase. It supports a very basic disk mode, or a recommended database approach using chromadb"
   ]
  },
  {
   "cell_type": "code",
   "execution_count": 35,
   "metadata": {
    "tags": []
   },
   "outputs": [],
   "source": [
    "def gen_catalog_emb_space(cropped, mode, engine,collection=None):\n",
    "    emb_space = {}\n",
    "    look_folders = [d for d in os.listdir(cropped) if not d.startswith('.') and not d.startswith(INFERENCE_DIR)]\n",
    "    \n",
    "    for look_folder in tqdm(look_folders, desc=\"Processing look folders\", unit=\"folder\"):\n",
    "        folder_path = os.path.join(cropped, look_folder)\n",
    "        for item in os.listdir(folder_path):\n",
    "            if not item.startswith('.'):\n",
    "                emb = _calculate_emb(os.path.join(folder_path, item), mode)\n",
    "                if engine == 'disk':\n",
    "                    emb_space[f\"{look_folder}-{item}\"] = torch.tensor(emb)\n",
    "                elif engine == 'chromadb':\n",
    "                        collection.add(ids=f\"{look_folder}-{item}\",embeddings=emb)\n",
    "                else:\n",
    "                    logging.info(f\"{engine} engine not supported\")\n",
    "    return emb_space\n",
    "\n",
    "def _cosine_similarity(a, b,dev):\n",
    "    a_dev = a.to(dev)\n",
    "    b_dev = b.to(dev)\n",
    "    dot_product = torch.sum(a_dev * b_dev)\n",
    "    norm_a = torch.norm(a)\n",
    "    norm_b = torch.norm(b)\n",
    "    similarity = dot_product / (norm_a * norm_b)\n",
    "    return similarity.item()\n",
    "\n",
    "def search_closest(inference_input,emb_kv_database,top_k,dev,engine):\n",
    "    if engine == 'disk':\n",
    "        similarities = []\n",
    "        for key, emb in emb_kv_database.items():\n",
    "            \n",
    "            similarity = _cosine_similarity(inference_input, emb,dev)\n",
    "            similarities.append((key, similarity))\n",
    "\n",
    "        similarities.sort(key=lambda x: x[1], reverse=True)\n",
    "        top_similarities = similarities[:top_k]\n",
    "    elif engine == 'chromadb':\n",
    "        top_similarities =  emb_kv_database.query(query_embeddings=inference_input.tolist(),n_results=top_k)\n",
    "    else:\n",
    "        logging.info(f\"{engine} engine not supported\")\n",
    "        top_similarities = []   \n",
    "    return top_similarities\n",
    "\n",
    "\n",
    "def gen_emb_kv_database(engine):\n",
    "    if engine == 'disk':\n",
    "        if os.path.isfile(DATABASE_FILE):\n",
    "            with open(DATABASE_FILE, 'rb') as database:\n",
    "                emb_kv_database = pickle.load(database)\n",
    "                logging.info('Database restored successfully from file')\n",
    "        else:    \n",
    "            emb_kv_database = gen_catalog_emb_space(CROPPED_DIR,LOCAL,engine)\n",
    "            with open(DATABASE_FILE, 'wb') as database:\n",
    "                pickle.dump(emb_kv_database, database)\n",
    "                logging.info('Database saved successfully to file')\n",
    "    elif engine == 'chromadb':\n",
    "        client = chromadb.PersistentClient(path=CHROMA_DIR)\n",
    "        collection = client.get_or_create_collection(name=\"catalog\")\n",
    "        if  collection.count() == 0:\n",
    "            logging.info('Creating collection from scratch')\n",
    "            gen_catalog_emb_space(CROPPED_DIR,LOCAL,engine,collection)\n",
    "        emb_kv_database = collection\n",
    "    else:\n",
    "        logging.info(f\"{engine} engine not supported\")\n",
    "        emb_kv_database = None\n",
    "    return emb_kv_database"
   ]
  },
  {
   "cell_type": "code",
   "execution_count": 36,
   "metadata": {
    "tags": []
   },
   "outputs": [
    {
     "name": "stderr",
     "output_type": "stream",
     "text": [
      "INFO:chromadb.telemetry.product.posthog:Anonymized telemetry enabled. See                     https://docs.trychroma.com/telemetry for more information.\n",
      "INFO:root:Creating collection from scratch\n",
      "Processing look folders: 100%|██████████| 256/256 [04:26<00:00,  1.04s/folder]\n"
     ]
    }
   ],
   "source": [
    "emb_kv_database = gen_emb_kv_database(\"chromadb\")"
   ]
  },
  {
   "cell_type": "code",
   "execution_count": 41,
   "metadata": {
    "tags": []
   },
   "outputs": [
    {
     "data": {
      "text/plain": [
       "{'ids': ['look_0-0.png'],\n",
       " 'embeddings': [[3.0192980766296387,\n",
       "   0.1455582082271576,\n",
       "   0.5191938877105713,\n",
       "   0.5461011528968811,\n",
       "   0.00864288117736578,\n",
       "   0.5225144028663635,\n",
       "   0.4167744517326355,\n",
       "   0.2556920349597931,\n",
       "   1.6224051713943481,\n",
       "   0.29903748631477356,\n",
       "   0.16156911849975586,\n",
       "   0.7393051385879517,\n",
       "   0.7094406485557556,\n",
       "   0.03257123380899429,\n",
       "   0.50879967212677,\n",
       "   1.9513459205627441,\n",
       "   0.0,\n",
       "   0.04378326237201691,\n",
       "   1.5726767778396606,\n",
       "   0.2576442062854767,\n",
       "   1.3726520538330078,\n",
       "   0.041179168969392776,\n",
       "   1.105421781539917,\n",
       "   0.0,\n",
       "   0.006202642805874348,\n",
       "   0.23322440683841705,\n",
       "   0.19525045156478882,\n",
       "   1.5565983057022095,\n",
       "   1.7543985843658447,\n",
       "   0.27565041184425354,\n",
       "   1.1467911005020142,\n",
       "   1.0388020277023315,\n",
       "   0.43032440543174744,\n",
       "   0.8517464399337769,\n",
       "   1.7820963859558105,\n",
       "   0.7155877947807312,\n",
       "   0.08149772882461548,\n",
       "   1.9268016815185547,\n",
       "   1.4559032917022705,\n",
       "   0.1765507161617279,\n",
       "   1.2365375757217407,\n",
       "   0.043951116502285004,\n",
       "   0.0,\n",
       "   0.7974570989608765,\n",
       "   1.9150320291519165,\n",
       "   1.2522825002670288,\n",
       "   0.12184308469295502,\n",
       "   1.394600749015808,\n",
       "   3.139012575149536,\n",
       "   0.9741136431694031,\n",
       "   1.9813767671585083,\n",
       "   0.062464047223329544,\n",
       "   1.094256043434143,\n",
       "   0.6421233415603638,\n",
       "   0.7971572279930115,\n",
       "   0.34964442253112793,\n",
       "   2.808451654345845e-06,\n",
       "   1.975906252861023,\n",
       "   0.3208349645137787,\n",
       "   2.418022394180298,\n",
       "   0.027692748233675957,\n",
       "   0.6448118686676025,\n",
       "   0.2503868341445923,\n",
       "   0.3098008334636688,\n",
       "   0.10430468618869781,\n",
       "   0.0,\n",
       "   0.2514278292655945,\n",
       "   0.6713323593139648,\n",
       "   0.01389436423778534,\n",
       "   0.08189958333969116,\n",
       "   1.9634095430374146,\n",
       "   3.3452584743499756,\n",
       "   0.5414945483207703,\n",
       "   0.010249782353639603,\n",
       "   3.409153461456299,\n",
       "   1.056244969367981,\n",
       "   1.2020974159240723,\n",
       "   1.8083102703094482,\n",
       "   0.009777730330824852,\n",
       "   1.3990930318832397,\n",
       "   0.9265919923782349,\n",
       "   0.47523215413093567,\n",
       "   0.4963921010494232,\n",
       "   0.0,\n",
       "   0.918583333492279,\n",
       "   0.06391938030719757,\n",
       "   0.06656713038682938,\n",
       "   0.31483855843544006,\n",
       "   2.2743980884552,\n",
       "   1.6594778299331665,\n",
       "   0.0341285839676857,\n",
       "   0.6942698359489441,\n",
       "   1.3285201787948608,\n",
       "   0.7539068460464478,\n",
       "   3.5876545906066895,\n",
       "   3.107606887817383,\n",
       "   2.2161998748779297,\n",
       "   0.6971011757850647,\n",
       "   0.1559981256723404,\n",
       "   2.0630128383636475,\n",
       "   0.07768522202968597,\n",
       "   0.3953649699687958,\n",
       "   0.7025802135467529,\n",
       "   0.033542077988386154,\n",
       "   3.953977584838867,\n",
       "   1.806654930114746,\n",
       "   0.6725581288337708,\n",
       "   0.5040152668952942,\n",
       "   1.0342552661895752,\n",
       "   0.7197027206420898,\n",
       "   1.8500498533248901,\n",
       "   1.0523395538330078,\n",
       "   0.31397029757499695,\n",
       "   1.4595301151275635,\n",
       "   0.04880275949835777,\n",
       "   2.1014609336853027,\n",
       "   0.058778051286935806,\n",
       "   11.408809661865234,\n",
       "   0.24667076766490936,\n",
       "   0.981968343257904,\n",
       "   0.12852342426776886,\n",
       "   0.027161922305822372,\n",
       "   0.13897888362407684,\n",
       "   0.0029611459467560053,\n",
       "   0.5349733829498291,\n",
       "   0.9838039875030518,\n",
       "   0.24834993481636047,\n",
       "   2.274728536605835,\n",
       "   0.0,\n",
       "   1.2948572635650635,\n",
       "   0.0011652656830847263,\n",
       "   1.335630178451538,\n",
       "   0.09644374251365662,\n",
       "   0.008497257716953754,\n",
       "   0.31972432136535645,\n",
       "   0.11482390761375427,\n",
       "   0.0,\n",
       "   1.4586175680160522,\n",
       "   0.1886119246482849,\n",
       "   0.7117315530776978,\n",
       "   0.802717924118042,\n",
       "   2.4334938526153564,\n",
       "   0.7048171758651733,\n",
       "   0.09862709790468216,\n",
       "   1.8628652095794678,\n",
       "   1.9669028520584106,\n",
       "   1.1333495378494263,\n",
       "   2.0401434898376465,\n",
       "   0.40725964307785034,\n",
       "   3.524223566055298,\n",
       "   0.2381361424922943,\n",
       "   0.1623680293560028,\n",
       "   0.6839521527290344,\n",
       "   0.5355961322784424,\n",
       "   0.07484055310487747,\n",
       "   0.0,\n",
       "   2.4357168674468994,\n",
       "   0.4318307340145111,\n",
       "   1.8625181913375854,\n",
       "   0.33300167322158813,\n",
       "   0.27745941281318665,\n",
       "   0.2854509651660919,\n",
       "   0.17291241884231567,\n",
       "   4.0568528175354,\n",
       "   1.1188424825668335,\n",
       "   1.3476800918579102,\n",
       "   0.01128509920090437,\n",
       "   0.6287499070167542,\n",
       "   0.30651503801345825,\n",
       "   1.3205888271331787,\n",
       "   0.22983340919017792,\n",
       "   0.05165060609579086,\n",
       "   1.2356774806976318,\n",
       "   0.03922628238797188,\n",
       "   0.022890467196702957,\n",
       "   0.1092429831624031,\n",
       "   0.0028035598807036877,\n",
       "   0.0087443757802248,\n",
       "   0.3596397042274475,\n",
       "   0.8182188272476196,\n",
       "   1.7789056301116943,\n",
       "   0.22575117647647858,\n",
       "   0.6027483344078064,\n",
       "   0.44954365491867065,\n",
       "   0.003891246160492301,\n",
       "   1.3869990110397339,\n",
       "   0.810448169708252,\n",
       "   1.3908448219299316,\n",
       "   0.3222317695617676,\n",
       "   0.0006773567874915898,\n",
       "   0.16878661513328552,\n",
       "   0.8592151999473572,\n",
       "   1.6427072286605835,\n",
       "   0.12165422737598419,\n",
       "   2.1480793952941895,\n",
       "   1.843971848487854,\n",
       "   1.367103934288025,\n",
       "   1.697458028793335,\n",
       "   2.4967775344848633,\n",
       "   0.5732022523880005,\n",
       "   1.3652297258377075,\n",
       "   0.24587003886699677,\n",
       "   0.0003651083679869771,\n",
       "   0.4544827342033386,\n",
       "   0.1957872211933136,\n",
       "   1.8372691869735718,\n",
       "   0.06646270304918289,\n",
       "   0.09644117206335068,\n",
       "   0.08186584711074829,\n",
       "   0.20572929084300995,\n",
       "   0.601656436920166,\n",
       "   0.47327178716659546,\n",
       "   0.07470180839300156,\n",
       "   0.09018370509147644,\n",
       "   0.6924273371696472,\n",
       "   0.461627721786499,\n",
       "   0.25079604983329773,\n",
       "   0.05655616521835327,\n",
       "   0.03273255378007889,\n",
       "   2.067474603652954,\n",
       "   1.6427257061004639,\n",
       "   0.6457018256187439,\n",
       "   0.6131024360656738,\n",
       "   2.0191092491149902,\n",
       "   0.04461365193128586,\n",
       "   2.8074851036071777,\n",
       "   0.09493110328912735,\n",
       "   0.20027343928813934,\n",
       "   0.0,\n",
       "   0.28366798162460327,\n",
       "   3.605358123779297,\n",
       "   0.12290140986442566,\n",
       "   0.05275284871459007,\n",
       "   0.23882445693016052,\n",
       "   1.0691745281219482,\n",
       "   0.25125652551651,\n",
       "   2.1516244411468506,\n",
       "   1.7995392084121704,\n",
       "   0.05735120549798012,\n",
       "   1.3279560804367065,\n",
       "   0.3425491452217102,\n",
       "   0.8894904851913452,\n",
       "   0.046709779649972916,\n",
       "   0.5954053401947021,\n",
       "   1.1294103860855103,\n",
       "   0.07616987824440002,\n",
       "   0.005266889464110136,\n",
       "   0.28990843892097473,\n",
       "   0.4369537830352783,\n",
       "   0.09127900004386902,\n",
       "   1.804653286933899,\n",
       "   1.6605651378631592,\n",
       "   0.2175310105085373,\n",
       "   0.013205794617533684,\n",
       "   1.3077830076217651,\n",
       "   0.13551795482635498,\n",
       "   0.9746564030647278,\n",
       "   0.6671680808067322,\n",
       "   3.6197876930236816,\n",
       "   1.6215559244155884,\n",
       "   1.789414405822754,\n",
       "   0.026056509464979172,\n",
       "   0.41322648525238037,\n",
       "   1.0479774475097656,\n",
       "   0.12386693805456161,\n",
       "   0.18913890421390533,\n",
       "   0.16060250997543335,\n",
       "   0.3458266258239746,\n",
       "   1.524134874343872,\n",
       "   0.9318301677703857,\n",
       "   1.0498096942901611,\n",
       "   0.07423499971628189,\n",
       "   0.8013681173324585,\n",
       "   2.406660318374634,\n",
       "   0.6028293967247009,\n",
       "   0.22778403759002686,\n",
       "   1.6670995950698853,\n",
       "   0.8610657453536987,\n",
       "   0.5990803241729736,\n",
       "   0.10576645284891129,\n",
       "   0.0,\n",
       "   0.7186498641967773,\n",
       "   0.5149287581443787,\n",
       "   2.03434157371521,\n",
       "   0.15397654473781586,\n",
       "   0.004855680279433727,\n",
       "   0.0,\n",
       "   2.607292652130127,\n",
       "   0.28786489367485046,\n",
       "   2.0780189037323,\n",
       "   0.9626572132110596,\n",
       "   1.4888707399368286,\n",
       "   0.15336523950099945,\n",
       "   0.5058910846710205,\n",
       "   1.3472118377685547,\n",
       "   1.5455297231674194,\n",
       "   0.38456258177757263,\n",
       "   0.23502297699451447,\n",
       "   1.2121771574020386,\n",
       "   0.0018390209879726171,\n",
       "   6.262994289398193,\n",
       "   0.27095577120780945,\n",
       "   0.7599563598632812,\n",
       "   0.1732790470123291,\n",
       "   0.11532244086265564,\n",
       "   0.0,\n",
       "   2.5763978958129883,\n",
       "   0.02769280970096588,\n",
       "   0.36881792545318604,\n",
       "   1.3626275062561035,\n",
       "   0.007139659486711025,\n",
       "   3.121241569519043,\n",
       "   0.039994336664676666,\n",
       "   0.061938751488924026,\n",
       "   1.4893766641616821,\n",
       "   0.011523243971168995,\n",
       "   0.10388487577438354,\n",
       "   0.0791841596364975,\n",
       "   0.0,\n",
       "   2.2195496559143066,\n",
       "   1.326066493988037,\n",
       "   0.24668624997138977,\n",
       "   0.6870232224464417,\n",
       "   0.0,\n",
       "   1.9419137239456177,\n",
       "   2.0736937522888184,\n",
       "   0.0,\n",
       "   0.0,\n",
       "   0.0669499859213829,\n",
       "   0.802799642086029,\n",
       "   0.011128473095595837,\n",
       "   0.0,\n",
       "   0.3792285621166229,\n",
       "   0.0,\n",
       "   3.292348861694336,\n",
       "   1.6093957424163818,\n",
       "   0.43295514583587646,\n",
       "   0.5967728495597839,\n",
       "   0.2940124273300171,\n",
       "   1.514967918395996,\n",
       "   0.829380989074707,\n",
       "   0.932275652885437,\n",
       "   1.2709455490112305,\n",
       "   2.3990800380706787,\n",
       "   0.6960095763206482,\n",
       "   0.6751962900161743,\n",
       "   0.8204594850540161,\n",
       "   2.2978787422180176,\n",
       "   0.16583333909511566,\n",
       "   0.5474769473075867,\n",
       "   0.37801438570022583,\n",
       "   1.445459008216858,\n",
       "   0.006090831011533737,\n",
       "   0.44765031337738037,\n",
       "   1.0917128324508667,\n",
       "   0.1325274258852005,\n",
       "   1.2933346033096313,\n",
       "   2.095334529876709,\n",
       "   0.29270291328430176,\n",
       "   0.036567799746990204,\n",
       "   0.6967566609382629,\n",
       "   0.01376983243972063,\n",
       "   0.23556135594844818,\n",
       "   0.2786165475845337,\n",
       "   2.677475690841675,\n",
       "   0.7004193663597107,\n",
       "   0.13309216499328613,\n",
       "   0.44421854615211487,\n",
       "   1.3525807857513428,\n",
       "   1.1450622081756592,\n",
       "   0.14766113460063934,\n",
       "   2.723496198654175,\n",
       "   0.8196131587028503,\n",
       "   0.7813867330551147,\n",
       "   2.025264263153076,\n",
       "   0.06332472711801529,\n",
       "   0.044477954506874084,\n",
       "   0.30554482340812683,\n",
       "   0.4512805640697479,\n",
       "   1.2281591892242432,\n",
       "   0.6028704047203064,\n",
       "   0.05624089762568474,\n",
       "   0.8078014850616455,\n",
       "   0.8508867621421814,\n",
       "   0.0011977736139670014,\n",
       "   2.1022109985351562,\n",
       "   1.220647931098938,\n",
       "   0.09899744391441345,\n",
       "   0.18445976078510284,\n",
       "   0.6519371271133423,\n",
       "   0.01812794990837574,\n",
       "   0.3979113698005676,\n",
       "   0.031017038971185684,\n",
       "   0.05879999324679375,\n",
       "   0.08486416190862656,\n",
       "   0.0,\n",
       "   0.3317332863807678,\n",
       "   1.8290232419967651,\n",
       "   0.06921981275081635,\n",
       "   0.0,\n",
       "   0.2784292697906494,\n",
       "   3.892672061920166,\n",
       "   1.0597410202026367,\n",
       "   0.061042480170726776,\n",
       "   0.7533963918685913,\n",
       "   1.2336798906326294,\n",
       "   0.5806441903114319,\n",
       "   0.022252239286899567,\n",
       "   0.44668811559677124,\n",
       "   1.1199767589569092,\n",
       "   0.9338374137878418,\n",
       "   0.17933987081050873,\n",
       "   0.0,\n",
       "   1.2009276151657104,\n",
       "   0.008517343550920486,\n",
       "   0.5386618971824646,\n",
       "   0.31272128224372864,\n",
       "   2.71711802482605,\n",
       "   0.08382098376750946,\n",
       "   2.17842435836792,\n",
       "   0.54803466796875,\n",
       "   2.8854074478149414,\n",
       "   0.0,\n",
       "   0.11503636837005615,\n",
       "   3.8651957511901855,\n",
       "   0.11895845085382462,\n",
       "   0.7346898317337036,\n",
       "   0.6717178225517273,\n",
       "   1.0933802127838135,\n",
       "   3.540701389312744,\n",
       "   1.6442662477493286,\n",
       "   3.6593258380889893,\n",
       "   0.06090344861149788,\n",
       "   1.8612565994262695,\n",
       "   0.812407374382019,\n",
       "   1.1484606266021729,\n",
       "   3.5212714672088623,\n",
       "   1.0743383169174194,\n",
       "   2.854978322982788,\n",
       "   0.8187995553016663,\n",
       "   0.5586243271827698,\n",
       "   0.004822166636586189,\n",
       "   0.5106616020202637,\n",
       "   0.0,\n",
       "   0.0,\n",
       "   0.41780221462249756,\n",
       "   0.2880355715751648,\n",
       "   0.6535065174102783,\n",
       "   0.34851598739624023,\n",
       "   0.830261766910553,\n",
       "   0.1045433059334755,\n",
       "   0.016869235783815384,\n",
       "   0.14981839060783386,\n",
       "   1.0143083333969116,\n",
       "   0.5777161717414856,\n",
       "   1.574739933013916,\n",
       "   0.22128963470458984,\n",
       "   1.3563679456710815,\n",
       "   2.1681859493255615,\n",
       "   3.2392396926879883,\n",
       "   0.04624144732952118,\n",
       "   2.2896430492401123,\n",
       "   0.5184106826782227,\n",
       "   0.48630353808403015,\n",
       "   0.5289452075958252,\n",
       "   0.08954015374183655,\n",
       "   0.0013462435454130173,\n",
       "   0.2955799400806427,\n",
       "   4.159928798675537,\n",
       "   0.1357002556324005,\n",
       "   0.07727357745170593,\n",
       "   0.8212431073188782,\n",
       "   1.427227258682251,\n",
       "   0.6468678116798401,\n",
       "   0.5593750476837158,\n",
       "   0.0,\n",
       "   1.1166342496871948,\n",
       "   2.6041228771209717,\n",
       "   0.46233242750167847,\n",
       "   0.06611554324626923,\n",
       "   0.012196701020002365,\n",
       "   0.39243465662002563,\n",
       "   1.481389045715332,\n",
       "   0.36291399598121643,\n",
       "   2.399737596511841,\n",
       "   0.004837199579924345,\n",
       "   0.5846561193466187,\n",
       "   0.8625587224960327,\n",
       "   0.06562308967113495,\n",
       "   0.0014338964829221368,\n",
       "   0.013753307051956654,\n",
       "   0.3745700418949127,\n",
       "   0.9391255378723145,\n",
       "   0.8435577750205994,\n",
       "   0.9401777386665344,\n",
       "   0.026074694469571114,\n",
       "   0.15889468789100647,\n",
       "   0.5648230910301208,\n",
       "   2.087273120880127,\n",
       "   0.42430129647254944,\n",
       "   1.8143540620803833,\n",
       "   0.00626001413911581,\n",
       "   0.7079778909683228,\n",
       "   0.0,\n",
       "   0.8459946513175964,\n",
       "   0.230974942445755,\n",
       "   0.015016302466392517,\n",
       "   0.38504335284233093,\n",
       "   1.8662402629852295,\n",
       "   2.7305662631988525,\n",
       "   0.0,\n",
       "   0.031102173030376434]],\n",
       " 'metadatas': [None],\n",
       " 'documents': [None],\n",
       " 'uris': None,\n",
       " 'data': None}"
      ]
     },
     "execution_count": 41,
     "metadata": {},
     "output_type": "execute_result"
    }
   ],
   "source": [
    "emb_kv_database.peek(1)"
   ]
  },
  {
   "cell_type": "markdown",
   "metadata": {},
   "source": [
    "## 4. Model training"
   ]
  },
  {
   "cell_type": "markdown",
   "metadata": {},
   "source": [
    "### 4.1 Data Loaders"
   ]
  },
  {
   "cell_type": "markdown",
   "metadata": {},
   "source": [
    "Folowing code define the Pytorch dataset and dataloaders."
   ]
  },
  {
   "cell_type": "markdown",
   "metadata": {
    "tags": []
   },
   "source": [
    "In order for the model to learn the embeddings associations independetly of the position  we are placing it on the training set (e.g. do not always predict footwear), we need to permute the data. Calculate all the possible permutations of `MAX_ITEM`can be q quite heavy process, for instance for Chictopia, this vlaue is set to 9, so we optimize the number of permutations based on the index of the first tensor with valid value for the sparse examples. Normally a full look contais around 4 or 5 items."
   ]
  },
  {
   "cell_type": "code",
   "execution_count": 37,
   "metadata": {
    "tags": []
   },
   "outputs": [],
   "source": [
    "def _find_first_zero_row(tensor):\n",
    "    m, n = tensor.shape\n",
    "    for i in range(m):\n",
    "        if torch.all(tensor[i] == 0):\n",
    "            return i \n",
    "    return m\n",
    "\n",
    "def augment_data(data,n):\n",
    "    augmented_data = []\n",
    "    for tensor in data:\n",
    "        if not n:\n",
    "            n = _find_first_zero_row(tensor)\n",
    "        indices = list(range(n))\n",
    "        indices_permutations = list(permutations(indices))\n",
    "        for perm in indices_permutations:\n",
    "            augmented_tensor = torch.zeros_like(tensor)\n",
    "            for i in range(n):\n",
    "                augmented_tensor[i] = tensor[perm[i]]\n",
    "            augmented_data.append(augmented_tensor)\n",
    "    return augmented_data"
   ]
  },
  {
   "cell_type": "code",
   "execution_count": 38,
   "metadata": {
    "tags": []
   },
   "outputs": [],
   "source": [
    "def _load_training_data_autoencoder(filepath,augmentation=False,augmentation_permutations=None,bigquery_log=False):\n",
    "    completed_looks = []\n",
    "    with open(filepath, \"r\") as f:\n",
    "        reader = csv.reader(f, delimiter='|')\n",
    "        total_rows = sum(1 for _ in reader)  \n",
    "        f.seek(0) \n",
    "        for row in tqdm(reader, total=total_rows, desc=\"Loading Data\", unit=\"row\"):\n",
    "            vectors = row[1:]\n",
    "            vectors = [ast.literal_eval(vector) for vector in vectors]\n",
    "            vectors = vectors[:MAX_ITEMS]\n",
    "            missing_vectors = [0] * (MAX_ITEMS - len(vectors))\n",
    "            for i in range(len(missing_vectors)):\n",
    "                missing_vectors[i] = [0] * MM_EMB_DIMS\n",
    "            vectors.extend(missing_vectors)\n",
    "            torch_vectors = torch.tensor(vectors, dtype=torch.float32)\n",
    "            completed_looks.append(torch_vectors)\n",
    "            \n",
    "        if augmentation:\n",
    "            logging.info(f\"Augmenting data with {augmentation_permutations} permutations..\")\n",
    "            completed_looks = completed_looks + augment_data(completed_looks,augmentation_permutations)\n",
    "    if not bigquery_log:\n",
    "        return completed_looks\n",
    "    else:\n",
    "        client = bigquery.Client()\n",
    "        dataset_options = bigquery.Dataset(f\"{PROJECT_ID}.{BQ_DATASET}\")\n",
    "        dataset = client.create_dataset(dataset_options, exists_ok=True)\n",
    "        table_ref = client.dataset(BQ_DATASET).table(Path(filepath).parent.as_posix())\n",
    "        schema = [bigquery.SchemaField(f'feature_vector_{i}', 'FLOAT', mode='REPEATED') for i in range(MAX_ITEMS)]\n",
    "        job_config = bigquery.LoadJobConfig(schema=schema,write_disposition=\"WRITE_TRUNCATE\")\n",
    "        records = []\n",
    "        for record in completed_looks:\n",
    "            row = {f\"feature_vector_{i}\" : record[i].tolist() for i in range(MAX_ITEMS)}\n",
    "            records.append(row)\n",
    "        job = client.load_table_from_json(records, table_ref, job_config=job_config)\n",
    "        job.result()\n",
    "        logging.info(f\"Table {Path(filepath).parent.as_posix()} generated in BigQuery\")\n",
    "        return completed_looks"
   ]
  },
  {
   "cell_type": "code",
   "execution_count": 65,
   "metadata": {
    "tags": []
   },
   "outputs": [],
   "source": [
    "class LooksDataset(Dataset):\n",
    "    def __init__(self, data_list, items_to_predict):\n",
    "        self.data_list = data_list\n",
    "        self.items_to_predict = items_to_predict\n",
    "        assert items_to_predict >= 2\n",
    "        \n",
    "    def __len__(self):\n",
    "        return len(self.data_list)\n",
    "\n",
    "    def __getitem__(self, idx):\n",
    "        item = self.data_list[idx]\n",
    "        n = min(self.items_to_predict, len(item) - 1)\n",
    "        data = item[:n]\n",
    "        label = item[n]      \n",
    "        return {'data': data, 'label': label}"
   ]
  },
  {
   "cell_type": "markdown",
   "metadata": {
    "tags": []
   },
   "source": [
    "I have added this extremely inefficient DataLoader for BQ tables, it works, but obviuosly need further work"
   ]
  },
  {
   "cell_type": "code",
   "execution_count": 25,
   "metadata": {
    "tags": []
   },
   "outputs": [],
   "source": [
    "class ExperimentalLooksDatasetBigQuery(Dataset):\n",
    "    def __init__(self, project_id, dataset_id, table_id, items_to_predict,chunk_size=1000):\n",
    "        self.project_id = project_id\n",
    "        self.dataset_id = dataset_id\n",
    "        self.table_id = table_id\n",
    "        self.chunk_size = chunk_size\n",
    "        self.client = bigquery.Client()\n",
    "        self.query = f\"SELECT * FROM `{project_id}.{dataset_id}.{table_id}`\"\n",
    "        self.indices = list(range(0, self.get_dataset_size(), self.chunk_size))\n",
    "        self.items_to_predict = items_to_predict\n",
    "        assert items_to_predict >= 2\n",
    "\n",
    "    def get_dataset_size(self):\n",
    "        query_job = self.client.query(f\"SELECT COUNT(*) as total_rows FROM `{self.project_id}.{self.dataset_id}.{self.table_id}`\")\n",
    "        logging.info(f\"SELECT COUNT(*) as total_rows FROM `{self.project_id}.{self.dataset_id}.{self.table_id}`\")\n",
    "        result = query_job.result()\n",
    "        total_rows = list(result)[0]['total_rows']\n",
    "        return total_rows\n",
    "\n",
    "    def fetch_data(self, start_index):\n",
    "        query = f\"{self.query} LIMIT {self.chunk_size} OFFSET {start_index}\"\n",
    "        query_job = self.client.query(query)\n",
    "        result = query_job.result()\n",
    "        data = [dict(row.items()) for row in result]\n",
    "        return data\n",
    "\n",
    "    def __len__(self):\n",
    "        return len(self.indices)\n",
    "\n",
    "    def __getitem__(self, idx):\n",
    "        start_index = self.indices[idx]\n",
    "        \n",
    "        data_chunk = self.fetch_data(start_index)\n",
    "        n = min(self.items_to_predict, len(data_chunk) - 1)\n",
    "        data = []\n",
    "        labels = []\n",
    "\n",
    "        for entry in data_chunk:\n",
    "            feature_vectors = [entry[f'feature_vector_{i}'] for i in range(len(entry) - 1)]\n",
    "            label = entry[f'feature_vector_{len(entry) - 1}']\n",
    "            data.append(feature_vectors)\n",
    "            labels.append(label)\n",
    "        return {'data': torch.tensor(data), 'label': torch.tensor(labels)}"
   ]
  },
  {
   "cell_type": "code",
   "execution_count": 26,
   "metadata": {},
   "outputs": [],
   "source": [
    "#looks_ds = ExperimentalLooksDatasetBigQuery(project_id=PROJECT_ID,dataset_id=BQ_DATASET,table_id=training_set_dir,items_to_predict=3,chunk_size=BATCH_SIZE)\n",
    "#train_loader = DataLoader(looks_ds, batch_size=1, shuffle=True)"
   ]
  },
  {
   "cell_type": "code",
   "execution_count": 43,
   "metadata": {
    "tags": []
   },
   "outputs": [
    {
     "name": "stderr",
     "output_type": "stream",
     "text": [
      "Loading Data: 100%|██████████| 256/256 [00:01<00:00, 135.93row/s]\n",
      "INFO:root:Augmenting data with None permutations..\n"
     ]
    }
   ],
   "source": [
    "bigquery_log = False\n",
    "#augmentation_permutations = None, for dynamic permutation calculation based on the sparsity of  the tensor (e.g. do not permute tensors after first all-zero tensor)\n",
    "training_mem_set = filepath=os.path.join(training_set_dir,TRAINING_SET_FILE_NAME)\n",
    "training_data = _load_training_data_autoencoder(training_mem_set,augmentation=True,augmentation_permutations=None, bigquery_log=bigquery_log)"
   ]
  },
  {
   "cell_type": "code",
   "execution_count": 66,
   "metadata": {},
   "outputs": [],
   "source": [
    "#Items to predict = given items_to_predict-1, predict items_to_predict (e.g. if items_to_predict=3, given 2 items predict the third one)\n",
    "BATCH_SIZE = 32\n",
    "looks_ds = LooksDataset(data_list=training_data,items_to_predict=3)\n",
    "train_loader = DataLoader(looks_ds, batch_size=BATCH_SIZE, shuffle=True)"
   ]
  },
  {
   "cell_type": "markdown",
   "metadata": {},
   "source": [
    "### 4.2 Model definition"
   ]
  },
  {
   "cell_type": "code",
   "execution_count": 45,
   "metadata": {
    "tags": []
   },
   "outputs": [],
   "source": [
    "encoder_layer_sizes = [2*MM_EMB_DIMS,512,256,128,64,32,16,8]\n",
    "decode_layer_sizes = []                           \n",
    "lr = 0.001                        \n",
    "epochs = 100"
   ]
  },
  {
   "cell_type": "markdown",
   "metadata": {},
   "source": [
    "Autoencoder model definition is taken from [this](https://www.kaggle.com/code/weka511/autoencoder-implementation-in-pytorch) nice implementation. Ive added a few things like Dropouts and dimension adjustment"
   ]
  },
  {
   "cell_type": "code",
   "execution_count": 46,
   "metadata": {
    "tags": []
   },
   "outputs": [],
   "source": [
    "class AutoEncoder(Module):\n",
    "    @staticmethod\n",
    "    def get_non_linearity(params):\n",
    "        def get_one(param):\n",
    "            param = param.lower()\n",
    "            if param=='relu': return ReLU()\n",
    "            if param=='sigmoid': return Sigmoid()\n",
    "            return None\n",
    "        decoder_non_linearity = get_one(params[0])\n",
    "        encoder_non_linearity = getnl(params[a]) if len(params)>1 else decoder_non_linearity\n",
    "        return encoder_non_linearity,decoder_non_linearity\n",
    "\n",
    "    @staticmethod\n",
    "    def build_layer(sizes,non_linearity = None, dropout = False):\n",
    "        linears = []\n",
    "        for m,n in zip(sizes[:-1],sizes[1:]):\n",
    "            linears.append(Linear(m,n))\n",
    "            if dropout:\n",
    "                linears.append(Dropout(0.2))\n",
    "        if non_linearity==None:\n",
    "            return Sequential(*linears)\n",
    "        else:\n",
    "            layers = Sequential(*[item for pair in [(layer,non_linearity) for layer in linears] for item in pair])\n",
    "            return layers\n",
    "\n",
    "    def __init__(self,\n",
    "                 encoder_sizes         = [2*MM_EMB_DIMS,400,200,100,50,25,6],\n",
    "                 encoder_non_linearity = ReLU(inplace=True),\n",
    "                 decoder_sizes         = [],\n",
    "                 decoder_non_linearity = ReLU(inplace=True)):\n",
    "        super().__init__()\n",
    "        self.encoder_sizes = encoder_sizes\n",
    "        self.decoder_sizes = encoder_sizes[::-1] if len(decoder_sizes)==0 else decoder_sizes\n",
    "        #Decoder should project only on the MM_EMB_DIMS. 1 garment\n",
    "        self.decoder_sizes[-1] = MM_EMB_DIMS\n",
    "        self.encoder = AutoEncoder.build_layer(self.encoder_sizes,non_linearity = encoder_non_linearity)\n",
    "        self.decoder = AutoEncoder.build_layer(self.decoder_sizes,non_linearity = decoder_non_linearity)\n",
    "        self.encode  = True\n",
    "        self.decode  = True\n",
    "\n",
    "    def forward(self, x):\n",
    "        if self.encode:\n",
    "            x = self.encoder(x)\n",
    "        if self.decode:\n",
    "            x = self.decoder(x)\n",
    "        return x\n",
    "\n",
    "    def n_encoded(self):\n",
    "        return self.encoder_sizes[-1]"
   ]
  },
  {
   "cell_type": "markdown",
   "metadata": {},
   "source": [
    "### 4.3 Training loop"
   ]
  },
  {
   "cell_type": "code",
   "execution_count": 47,
   "metadata": {
    "tags": []
   },
   "outputs": [],
   "source": [
    "def train(loader,model,optimizer,criterion,epochs = 25,dev = 'cpu'):\n",
    "    losses = []\n",
    "    for epoch in range(epochs):\n",
    "        epoch_loss = 0\n",
    "        with tqdm(loader, desc=f\"Epoch {epoch + 1}/{epochs}\", unit=\"batch\") as t:\n",
    "            for item in t:\n",
    "                data = item['data']\n",
    "                label = item['label'].to(dev)\n",
    "                # Flatten look, from (2, MM_EMB_DIMS) to 2*MM_EMB_DIMS\n",
    "                data_flattened = data.view(-1, 2 * MM_EMB_DIMS).to(dev)\n",
    "                optimizer.zero_grad()\n",
    "                outputs = model(data_flattened)\n",
    "                #label = torch.unsqueeze(label, dim=0).to(dev)\n",
    "                train_loss = criterion(outputs, label)\n",
    "                train_loss.backward()\n",
    "                optimizer.step()\n",
    "                epoch_loss += train_loss.item()\n",
    "                t.set_postfix(loss=epoch_loss / (t.n + 1)) \n",
    "            losses.append(epoch_loss / len(loader))\n",
    "            print(f'Epoch {epoch + 1}/{epochs}, Average Loss: {losses[-1]:.6f}')\n",
    "    return losses"
   ]
  },
  {
   "cell_type": "code",
   "execution_count": 48,
   "metadata": {
    "tags": []
   },
   "outputs": [],
   "source": [
    "def launch_train():\n",
    "    dev = torch.device(\"cuda:\"+str(GPU_INDEX) if torch.cuda.is_available() else \"cpu\")\n",
    "    encoder_non_linearity,decoder_non_linearity = AutoEncoder.get_non_linearity(['relu'])\n",
    "    model = AutoEncoder(encoder_sizes = encoder_layer_sizes,encoder_non_linearity = encoder_non_linearity,decoder_non_linearity = decoder_non_linearity,decoder_sizes = decode_layer_sizes).to(dev)\n",
    "    if os.path.isfile(MODEL_TO_LOAD):\n",
    "        model.load_state_dict(torch.load(MODEL_TO_LOAD,map_location=torch.device('cpu')))\n",
    "        logging.info(f\"Model {MODEL_TO_LOAD}  loaded!\")\n",
    "    optimizer = torch.optim.Adam(model.parameters(),lr = lr)\n",
    "    criterion = MSELoss()\n",
    "    if not os.path.isfile(MODEL_TO_LOAD):\n",
    "        losses = train(train_loader,model,optimizer,criterion,epochs=epochs,dev=dev)\n",
    "    else:\n",
    "        logging.info(\"Model already loaded!\")\n",
    "        losses = []\n",
    "    return model,losses"
   ]
  },
  {
   "cell_type": "code",
   "execution_count": 49,
   "metadata": {
    "tags": []
   },
   "outputs": [],
   "source": [
    "def plot_losses(losses,lr= 0.001,encoder= [],decoder = [],epochs= 25,show = False,figs = './figs',prefix= 'ae',test_loss= 0):\n",
    "    fig = figure(figsize=(10,10))\n",
    "    ax  = fig.subplots()\n",
    "    ax.plot(losses)\n",
    "    ax.set_ylim(bottom=0)\n",
    "    ax.set_title(f'Training Losses after {epochs} epochs')\n",
    "    ax.set_ylabel('MSELoss')\n",
    "    ax.text(0.95, 0.95, '\\n'.join([f'lr = {lr}',f'encoder = {encoder}',f'decoder = {decoder}',f'test loss = {test_loss:.3f}']),\n",
    "    transform = ax.transAxes,\n",
    "    fontsize  = 14,\n",
    "    verticalalignment = 'top',\n",
    "    horizontalalignment = 'right',\n",
    "    bbox = dict(boxstyle  = 'round',facecolor = 'wheat',alpha = 0.5))\n",
    "    savefig(os.path.join(figs,f'{prefix}-losses'))\n",
    "    if not show:\n",
    "        close(fig)"
   ]
  },
  {
   "cell_type": "code",
   "execution_count": 68,
   "metadata": {
    "tags": []
   },
   "outputs": [
    {
     "name": "stderr",
     "output_type": "stream",
     "text": [
      "Epoch 1/100: 100%|██████████| 56/56 [00:01<00:00, 39.35batch/s, loss=0.836]\n"
     ]
    },
    {
     "name": "stdout",
     "output_type": "stream",
     "text": [
      "Epoch 1/100, Average Loss: 0.835552\n"
     ]
    },
    {
     "name": "stderr",
     "output_type": "stream",
     "text": [
      "Epoch 2/100: 100%|██████████| 56/56 [00:01<00:00, 42.95batch/s, loss=0.661]\n"
     ]
    },
    {
     "name": "stdout",
     "output_type": "stream",
     "text": [
      "Epoch 2/100, Average Loss: 0.660855\n"
     ]
    },
    {
     "name": "stderr",
     "output_type": "stream",
     "text": [
      "Epoch 3/100: 100%|██████████| 56/56 [00:01<00:00, 42.51batch/s, loss=0.66] \n"
     ]
    },
    {
     "name": "stdout",
     "output_type": "stream",
     "text": [
      "Epoch 3/100, Average Loss: 0.659961\n"
     ]
    },
    {
     "name": "stderr",
     "output_type": "stream",
     "text": [
      "Epoch 4/100: 100%|██████████| 56/56 [00:01<00:00, 41.92batch/s, loss=0.655]\n"
     ]
    },
    {
     "name": "stdout",
     "output_type": "stream",
     "text": [
      "Epoch 4/100, Average Loss: 0.654944\n"
     ]
    },
    {
     "name": "stderr",
     "output_type": "stream",
     "text": [
      "Epoch 5/100: 100%|██████████| 56/56 [00:01<00:00, 39.07batch/s, loss=0.69] \n"
     ]
    },
    {
     "name": "stdout",
     "output_type": "stream",
     "text": [
      "Epoch 5/100, Average Loss: 0.653247\n"
     ]
    },
    {
     "name": "stderr",
     "output_type": "stream",
     "text": [
      "Epoch 6/100: 100%|██████████| 56/56 [00:01<00:00, 36.05batch/s, loss=0.648]\n"
     ]
    },
    {
     "name": "stdout",
     "output_type": "stream",
     "text": [
      "Epoch 6/100, Average Loss: 0.613259\n"
     ]
    },
    {
     "name": "stderr",
     "output_type": "stream",
     "text": [
      "Epoch 7/100: 100%|██████████| 56/56 [00:01<00:00, 34.28batch/s, loss=0.544]\n"
     ]
    },
    {
     "name": "stdout",
     "output_type": "stream",
     "text": [
      "Epoch 7/100, Average Loss: 0.544282\n"
     ]
    },
    {
     "name": "stderr",
     "output_type": "stream",
     "text": [
      "Epoch 8/100: 100%|██████████| 56/56 [00:02<00:00, 25.22batch/s, loss=0.56] \n"
     ]
    },
    {
     "name": "stdout",
     "output_type": "stream",
     "text": [
      "Epoch 8/100, Average Loss: 0.539639\n"
     ]
    },
    {
     "name": "stderr",
     "output_type": "stream",
     "text": [
      "Epoch 9/100: 100%|██████████| 56/56 [00:02<00:00, 25.01batch/s, loss=0.546]\n"
     ]
    },
    {
     "name": "stdout",
     "output_type": "stream",
     "text": [
      "Epoch 9/100, Average Loss: 0.536649\n"
     ]
    },
    {
     "name": "stderr",
     "output_type": "stream",
     "text": [
      "Epoch 10/100: 100%|██████████| 56/56 [00:01<00:00, 39.38batch/s, loss=0.551]\n"
     ]
    },
    {
     "name": "stdout",
     "output_type": "stream",
     "text": [
      "Epoch 10/100, Average Loss: 0.530942\n"
     ]
    },
    {
     "name": "stderr",
     "output_type": "stream",
     "text": [
      "Epoch 11/100: 100%|██████████| 56/56 [00:01<00:00, 32.77batch/s, loss=0.541]\n"
     ]
    },
    {
     "name": "stdout",
     "output_type": "stream",
     "text": [
      "Epoch 11/100, Average Loss: 0.511774\n"
     ]
    },
    {
     "name": "stderr",
     "output_type": "stream",
     "text": [
      "Epoch 12/100: 100%|██████████| 56/56 [00:01<00:00, 28.64batch/s, loss=0.516]\n"
     ]
    },
    {
     "name": "stdout",
     "output_type": "stream",
     "text": [
      "Epoch 12/100, Average Loss: 0.497160\n"
     ]
    },
    {
     "name": "stderr",
     "output_type": "stream",
     "text": [
      "Epoch 13/100: 100%|██████████| 56/56 [00:02<00:00, 25.96batch/s, loss=0.497]\n"
     ]
    },
    {
     "name": "stdout",
     "output_type": "stream",
     "text": [
      "Epoch 13/100, Average Loss: 0.488581\n"
     ]
    },
    {
     "name": "stderr",
     "output_type": "stream",
     "text": [
      "Epoch 14/100: 100%|██████████| 56/56 [00:02<00:00, 22.92batch/s, loss=0.483]\n"
     ]
    },
    {
     "name": "stdout",
     "output_type": "stream",
     "text": [
      "Epoch 14/100, Average Loss: 0.483103\n"
     ]
    },
    {
     "name": "stderr",
     "output_type": "stream",
     "text": [
      "Epoch 15/100: 100%|██████████| 56/56 [00:02<00:00, 26.56batch/s, loss=0.47] \n"
     ]
    },
    {
     "name": "stdout",
     "output_type": "stream",
     "text": [
      "Epoch 15/100, Average Loss: 0.461842\n"
     ]
    },
    {
     "name": "stderr",
     "output_type": "stream",
     "text": [
      "Epoch 16/100: 100%|██████████| 56/56 [00:01<00:00, 29.77batch/s, loss=0.469]\n"
     ]
    },
    {
     "name": "stdout",
     "output_type": "stream",
     "text": [
      "Epoch 16/100, Average Loss: 0.451867\n"
     ]
    },
    {
     "name": "stderr",
     "output_type": "stream",
     "text": [
      "Epoch 17/100: 100%|██████████| 56/56 [00:01<00:00, 28.08batch/s, loss=0.448]\n"
     ]
    },
    {
     "name": "stdout",
     "output_type": "stream",
     "text": [
      "Epoch 17/100, Average Loss: 0.440264\n"
     ]
    },
    {
     "name": "stderr",
     "output_type": "stream",
     "text": [
      "Epoch 18/100: 100%|██████████| 56/56 [00:02<00:00, 26.95batch/s, loss=0.441]\n"
     ]
    },
    {
     "name": "stdout",
     "output_type": "stream",
     "text": [
      "Epoch 18/100, Average Loss: 0.433331\n"
     ]
    },
    {
     "name": "stderr",
     "output_type": "stream",
     "text": [
      "Epoch 19/100: 100%|██████████| 56/56 [00:02<00:00, 26.60batch/s, loss=0.436]\n"
     ]
    },
    {
     "name": "stdout",
     "output_type": "stream",
     "text": [
      "Epoch 19/100, Average Loss: 0.428650\n"
     ]
    },
    {
     "name": "stderr",
     "output_type": "stream",
     "text": [
      "Epoch 20/100: 100%|██████████| 56/56 [00:02<00:00, 27.23batch/s, loss=0.428]\n"
     ]
    },
    {
     "name": "stdout",
     "output_type": "stream",
     "text": [
      "Epoch 20/100, Average Loss: 0.420226\n"
     ]
    },
    {
     "name": "stderr",
     "output_type": "stream",
     "text": [
      "Epoch 21/100: 100%|██████████| 56/56 [00:02<00:00, 27.70batch/s, loss=0.424]\n"
     ]
    },
    {
     "name": "stdout",
     "output_type": "stream",
     "text": [
      "Epoch 21/100, Average Loss: 0.416028\n"
     ]
    },
    {
     "name": "stderr",
     "output_type": "stream",
     "text": [
      "Epoch 22/100: 100%|██████████| 56/56 [00:02<00:00, 27.23batch/s, loss=0.42] \n"
     ]
    },
    {
     "name": "stdout",
     "output_type": "stream",
     "text": [
      "Epoch 22/100, Average Loss: 0.412610\n"
     ]
    },
    {
     "name": "stderr",
     "output_type": "stream",
     "text": [
      "Epoch 23/100: 100%|██████████| 56/56 [00:02<00:00, 26.10batch/s, loss=0.42] \n"
     ]
    },
    {
     "name": "stdout",
     "output_type": "stream",
     "text": [
      "Epoch 23/100, Average Loss: 0.412046\n"
     ]
    },
    {
     "name": "stderr",
     "output_type": "stream",
     "text": [
      "Epoch 24/100: 100%|██████████| 56/56 [00:02<00:00, 25.92batch/s, loss=0.415]\n"
     ]
    },
    {
     "name": "stdout",
     "output_type": "stream",
     "text": [
      "Epoch 24/100, Average Loss: 0.407365\n"
     ]
    },
    {
     "name": "stderr",
     "output_type": "stream",
     "text": [
      "Epoch 25/100: 100%|██████████| 56/56 [00:02<00:00, 25.91batch/s, loss=0.412]\n"
     ]
    },
    {
     "name": "stdout",
     "output_type": "stream",
     "text": [
      "Epoch 25/100, Average Loss: 0.405065\n"
     ]
    },
    {
     "name": "stderr",
     "output_type": "stream",
     "text": [
      "Epoch 26/100: 100%|██████████| 56/56 [00:02<00:00, 25.99batch/s, loss=0.411]\n"
     ]
    },
    {
     "name": "stdout",
     "output_type": "stream",
     "text": [
      "Epoch 26/100, Average Loss: 0.403535\n"
     ]
    },
    {
     "name": "stderr",
     "output_type": "stream",
     "text": [
      "Epoch 27/100: 100%|██████████| 56/56 [00:02<00:00, 26.58batch/s, loss=0.409]\n"
     ]
    },
    {
     "name": "stdout",
     "output_type": "stream",
     "text": [
      "Epoch 27/100, Average Loss: 0.401993\n"
     ]
    },
    {
     "name": "stderr",
     "output_type": "stream",
     "text": [
      "Epoch 28/100: 100%|██████████| 56/56 [00:02<00:00, 26.43batch/s, loss=0.404]\n"
     ]
    },
    {
     "name": "stdout",
     "output_type": "stream",
     "text": [
      "Epoch 28/100, Average Loss: 0.404136\n"
     ]
    },
    {
     "name": "stderr",
     "output_type": "stream",
     "text": [
      "Epoch 29/100: 100%|██████████| 56/56 [00:02<00:00, 19.60batch/s, loss=0.4]  \n"
     ]
    },
    {
     "name": "stdout",
     "output_type": "stream",
     "text": [
      "Epoch 29/100, Average Loss: 0.400414\n"
     ]
    },
    {
     "name": "stderr",
     "output_type": "stream",
     "text": [
      "Epoch 30/100: 100%|██████████| 56/56 [00:03<00:00, 17.76batch/s, loss=0.437]\n"
     ]
    },
    {
     "name": "stdout",
     "output_type": "stream",
     "text": [
      "Epoch 30/100, Average Loss: 0.421616\n"
     ]
    },
    {
     "name": "stderr",
     "output_type": "stream",
     "text": [
      "Epoch 31/100: 100%|██████████| 56/56 [00:02<00:00, 26.19batch/s, loss=0.404]\n"
     ]
    },
    {
     "name": "stdout",
     "output_type": "stream",
     "text": [
      "Epoch 31/100, Average Loss: 0.396887\n"
     ]
    },
    {
     "name": "stderr",
     "output_type": "stream",
     "text": [
      "Epoch 32/100: 100%|██████████| 56/56 [00:02<00:00, 26.74batch/s, loss=0.419]\n"
     ]
    },
    {
     "name": "stdout",
     "output_type": "stream",
     "text": [
      "Epoch 32/100, Average Loss: 0.411940\n"
     ]
    },
    {
     "name": "stderr",
     "output_type": "stream",
     "text": [
      "Epoch 33/100: 100%|██████████| 56/56 [00:02<00:00, 26.16batch/s, loss=0.396]\n"
     ]
    },
    {
     "name": "stdout",
     "output_type": "stream",
     "text": [
      "Epoch 33/100, Average Loss: 0.388955\n"
     ]
    },
    {
     "name": "stderr",
     "output_type": "stream",
     "text": [
      "Epoch 34/100: 100%|██████████| 56/56 [00:02<00:00, 26.19batch/s, loss=0.393]\n"
     ]
    },
    {
     "name": "stdout",
     "output_type": "stream",
     "text": [
      "Epoch 34/100, Average Loss: 0.386000\n"
     ]
    },
    {
     "name": "stderr",
     "output_type": "stream",
     "text": [
      "Epoch 35/100: 100%|██████████| 56/56 [00:02<00:00, 19.10batch/s, loss=0.383]\n"
     ]
    },
    {
     "name": "stdout",
     "output_type": "stream",
     "text": [
      "Epoch 35/100, Average Loss: 0.382623\n"
     ]
    },
    {
     "name": "stderr",
     "output_type": "stream",
     "text": [
      "Epoch 36/100: 100%|██████████| 56/56 [00:02<00:00, 19.55batch/s, loss=0.388]\n"
     ]
    },
    {
     "name": "stdout",
     "output_type": "stream",
     "text": [
      "Epoch 36/100, Average Loss: 0.381231\n"
     ]
    },
    {
     "name": "stderr",
     "output_type": "stream",
     "text": [
      "Epoch 37/100: 100%|██████████| 56/56 [00:02<00:00, 25.94batch/s, loss=0.388]\n"
     ]
    },
    {
     "name": "stdout",
     "output_type": "stream",
     "text": [
      "Epoch 37/100, Average Loss: 0.381383\n"
     ]
    },
    {
     "name": "stderr",
     "output_type": "stream",
     "text": [
      "Epoch 38/100: 100%|██████████| 56/56 [00:02<00:00, 25.93batch/s, loss=0.387]\n"
     ]
    },
    {
     "name": "stdout",
     "output_type": "stream",
     "text": [
      "Epoch 38/100, Average Loss: 0.379645\n"
     ]
    },
    {
     "name": "stderr",
     "output_type": "stream",
     "text": [
      "Epoch 39/100: 100%|██████████| 56/56 [00:02<00:00, 26.09batch/s, loss=0.385]\n"
     ]
    },
    {
     "name": "stdout",
     "output_type": "stream",
     "text": [
      "Epoch 39/100, Average Loss: 0.377968\n"
     ]
    },
    {
     "name": "stderr",
     "output_type": "stream",
     "text": [
      "Epoch 40/100: 100%|██████████| 56/56 [00:02<00:00, 24.47batch/s, loss=0.381]\n"
     ]
    },
    {
     "name": "stdout",
     "output_type": "stream",
     "text": [
      "Epoch 40/100, Average Loss: 0.374534\n"
     ]
    },
    {
     "name": "stderr",
     "output_type": "stream",
     "text": [
      "Epoch 41/100: 100%|██████████| 56/56 [00:02<00:00, 24.89batch/s, loss=0.378]\n"
     ]
    },
    {
     "name": "stdout",
     "output_type": "stream",
     "text": [
      "Epoch 41/100, Average Loss: 0.377721\n"
     ]
    },
    {
     "name": "stderr",
     "output_type": "stream",
     "text": [
      "Epoch 42/100: 100%|██████████| 56/56 [00:02<00:00, 25.42batch/s, loss=0.385]\n"
     ]
    },
    {
     "name": "stdout",
     "output_type": "stream",
     "text": [
      "Epoch 42/100, Average Loss: 0.377678\n"
     ]
    },
    {
     "name": "stderr",
     "output_type": "stream",
     "text": [
      "Epoch 43/100: 100%|██████████| 56/56 [00:02<00:00, 22.11batch/s, loss=0.373]\n"
     ]
    },
    {
     "name": "stdout",
     "output_type": "stream",
     "text": [
      "Epoch 43/100, Average Loss: 0.372517\n"
     ]
    },
    {
     "name": "stderr",
     "output_type": "stream",
     "text": [
      "Epoch 44/100: 100%|██████████| 56/56 [00:02<00:00, 23.86batch/s, loss=0.38] \n"
     ]
    },
    {
     "name": "stdout",
     "output_type": "stream",
     "text": [
      "Epoch 44/100, Average Loss: 0.373073\n"
     ]
    },
    {
     "name": "stderr",
     "output_type": "stream",
     "text": [
      "Epoch 45/100: 100%|██████████| 56/56 [00:02<00:00, 25.59batch/s, loss=0.379]\n"
     ]
    },
    {
     "name": "stdout",
     "output_type": "stream",
     "text": [
      "Epoch 45/100, Average Loss: 0.371995\n"
     ]
    },
    {
     "name": "stderr",
     "output_type": "stream",
     "text": [
      "Epoch 46/100: 100%|██████████| 56/56 [00:02<00:00, 25.64batch/s, loss=0.377]\n"
     ]
    },
    {
     "name": "stdout",
     "output_type": "stream",
     "text": [
      "Epoch 46/100, Average Loss: 0.370352\n"
     ]
    },
    {
     "name": "stderr",
     "output_type": "stream",
     "text": [
      "Epoch 47/100: 100%|██████████| 56/56 [00:02<00:00, 25.16batch/s, loss=0.376]\n"
     ]
    },
    {
     "name": "stdout",
     "output_type": "stream",
     "text": [
      "Epoch 47/100, Average Loss: 0.369668\n"
     ]
    },
    {
     "name": "stderr",
     "output_type": "stream",
     "text": [
      "Epoch 48/100: 100%|██████████| 56/56 [00:02<00:00, 25.82batch/s, loss=0.375]\n"
     ]
    },
    {
     "name": "stdout",
     "output_type": "stream",
     "text": [
      "Epoch 48/100, Average Loss: 0.368261\n"
     ]
    },
    {
     "name": "stderr",
     "output_type": "stream",
     "text": [
      "Epoch 49/100: 100%|██████████| 56/56 [00:02<00:00, 26.38batch/s, loss=0.376]\n"
     ]
    },
    {
     "name": "stdout",
     "output_type": "stream",
     "text": [
      "Epoch 49/100, Average Loss: 0.369196\n"
     ]
    },
    {
     "name": "stderr",
     "output_type": "stream",
     "text": [
      "Epoch 50/100: 100%|██████████| 56/56 [00:02<00:00, 26.80batch/s, loss=0.378]\n"
     ]
    },
    {
     "name": "stdout",
     "output_type": "stream",
     "text": [
      "Epoch 50/100, Average Loss: 0.371099\n"
     ]
    },
    {
     "name": "stderr",
     "output_type": "stream",
     "text": [
      "Epoch 51/100: 100%|██████████| 56/56 [00:02<00:00, 26.15batch/s, loss=0.374]\n"
     ]
    },
    {
     "name": "stdout",
     "output_type": "stream",
     "text": [
      "Epoch 51/100, Average Loss: 0.367253\n"
     ]
    },
    {
     "name": "stderr",
     "output_type": "stream",
     "text": [
      "Epoch 52/100: 100%|██████████| 56/56 [00:02<00:00, 25.74batch/s, loss=0.374]\n"
     ]
    },
    {
     "name": "stdout",
     "output_type": "stream",
     "text": [
      "Epoch 52/100, Average Loss: 0.367701\n"
     ]
    },
    {
     "name": "stderr",
     "output_type": "stream",
     "text": [
      "Epoch 53/100: 100%|██████████| 56/56 [00:02<00:00, 25.46batch/s, loss=0.373]\n"
     ]
    },
    {
     "name": "stdout",
     "output_type": "stream",
     "text": [
      "Epoch 53/100, Average Loss: 0.366670\n"
     ]
    },
    {
     "name": "stderr",
     "output_type": "stream",
     "text": [
      "Epoch 54/100: 100%|██████████| 56/56 [00:02<00:00, 25.48batch/s, loss=0.37] \n"
     ]
    },
    {
     "name": "stdout",
     "output_type": "stream",
     "text": [
      "Epoch 54/100, Average Loss: 0.363806\n"
     ]
    },
    {
     "name": "stderr",
     "output_type": "stream",
     "text": [
      "Epoch 55/100: 100%|██████████| 56/56 [00:02<00:00, 25.47batch/s, loss=0.37] \n"
     ]
    },
    {
     "name": "stdout",
     "output_type": "stream",
     "text": [
      "Epoch 55/100, Average Loss: 0.363289\n"
     ]
    },
    {
     "name": "stderr",
     "output_type": "stream",
     "text": [
      "Epoch 56/100: 100%|██████████| 56/56 [00:02<00:00, 25.77batch/s, loss=0.369]\n"
     ]
    },
    {
     "name": "stdout",
     "output_type": "stream",
     "text": [
      "Epoch 56/100, Average Loss: 0.361927\n"
     ]
    },
    {
     "name": "stderr",
     "output_type": "stream",
     "text": [
      "Epoch 57/100: 100%|██████████| 56/56 [00:02<00:00, 25.72batch/s, loss=0.365]\n"
     ]
    },
    {
     "name": "stdout",
     "output_type": "stream",
     "text": [
      "Epoch 57/100, Average Loss: 0.358400\n"
     ]
    },
    {
     "name": "stderr",
     "output_type": "stream",
     "text": [
      "Epoch 58/100: 100%|██████████| 56/56 [00:03<00:00, 14.25batch/s, loss=0.371]\n"
     ]
    },
    {
     "name": "stdout",
     "output_type": "stream",
     "text": [
      "Epoch 58/100, Average Loss: 0.358049\n"
     ]
    },
    {
     "name": "stderr",
     "output_type": "stream",
     "text": [
      "Epoch 59/100: 100%|██████████| 56/56 [00:02<00:00, 25.60batch/s, loss=0.363]\n"
     ]
    },
    {
     "name": "stdout",
     "output_type": "stream",
     "text": [
      "Epoch 59/100, Average Loss: 0.356988\n"
     ]
    },
    {
     "name": "stderr",
     "output_type": "stream",
     "text": [
      "Epoch 60/100: 100%|██████████| 56/56 [00:02<00:00, 25.31batch/s, loss=0.367]\n"
     ]
    },
    {
     "name": "stdout",
     "output_type": "stream",
     "text": [
      "Epoch 60/100, Average Loss: 0.360069\n"
     ]
    },
    {
     "name": "stderr",
     "output_type": "stream",
     "text": [
      "Epoch 61/100: 100%|██████████| 56/56 [00:02<00:00, 18.84batch/s, loss=0.362]\n"
     ]
    },
    {
     "name": "stdout",
     "output_type": "stream",
     "text": [
      "Epoch 61/100, Average Loss: 0.361957\n"
     ]
    },
    {
     "name": "stderr",
     "output_type": "stream",
     "text": [
      "Epoch 62/100: 100%|██████████| 56/56 [00:02<00:00, 18.98batch/s, loss=0.354]\n"
     ]
    },
    {
     "name": "stdout",
     "output_type": "stream",
     "text": [
      "Epoch 62/100, Average Loss: 0.354124\n"
     ]
    },
    {
     "name": "stderr",
     "output_type": "stream",
     "text": [
      "Epoch 63/100: 100%|██████████| 56/56 [00:02<00:00, 25.75batch/s, loss=0.361]\n"
     ]
    },
    {
     "name": "stdout",
     "output_type": "stream",
     "text": [
      "Epoch 63/100, Average Loss: 0.354718\n"
     ]
    },
    {
     "name": "stderr",
     "output_type": "stream",
     "text": [
      "Epoch 64/100: 100%|██████████| 56/56 [00:02<00:00, 25.99batch/s, loss=0.364]\n"
     ]
    },
    {
     "name": "stdout",
     "output_type": "stream",
     "text": [
      "Epoch 64/100, Average Loss: 0.357524\n"
     ]
    },
    {
     "name": "stderr",
     "output_type": "stream",
     "text": [
      "Epoch 65/100: 100%|██████████| 56/56 [00:02<00:00, 25.64batch/s, loss=0.358]\n"
     ]
    },
    {
     "name": "stdout",
     "output_type": "stream",
     "text": [
      "Epoch 65/100, Average Loss: 0.351403\n"
     ]
    },
    {
     "name": "stderr",
     "output_type": "stream",
     "text": [
      "Epoch 66/100: 100%|██████████| 56/56 [00:02<00:00, 25.91batch/s, loss=0.364]\n"
     ]
    },
    {
     "name": "stdout",
     "output_type": "stream",
     "text": [
      "Epoch 66/100, Average Loss: 0.350959\n"
     ]
    },
    {
     "name": "stderr",
     "output_type": "stream",
     "text": [
      "Epoch 67/100: 100%|██████████| 56/56 [00:02<00:00, 25.67batch/s, loss=0.357]\n"
     ]
    },
    {
     "name": "stdout",
     "output_type": "stream",
     "text": [
      "Epoch 67/100, Average Loss: 0.350895\n"
     ]
    },
    {
     "name": "stderr",
     "output_type": "stream",
     "text": [
      "Epoch 68/100: 100%|██████████| 56/56 [00:02<00:00, 25.51batch/s, loss=0.356]\n"
     ]
    },
    {
     "name": "stdout",
     "output_type": "stream",
     "text": [
      "Epoch 68/100, Average Loss: 0.349324\n"
     ]
    },
    {
     "name": "stderr",
     "output_type": "stream",
     "text": [
      "Epoch 69/100: 100%|██████████| 56/56 [00:02<00:00, 26.10batch/s, loss=0.352]\n"
     ]
    },
    {
     "name": "stdout",
     "output_type": "stream",
     "text": [
      "Epoch 69/100, Average Loss: 0.346194\n"
     ]
    },
    {
     "name": "stderr",
     "output_type": "stream",
     "text": [
      "Epoch 70/100: 100%|██████████| 56/56 [00:02<00:00, 26.24batch/s, loss=0.356]\n"
     ]
    },
    {
     "name": "stdout",
     "output_type": "stream",
     "text": [
      "Epoch 70/100, Average Loss: 0.349292\n"
     ]
    },
    {
     "name": "stderr",
     "output_type": "stream",
     "text": [
      "Epoch 71/100: 100%|██████████| 56/56 [00:02<00:00, 23.22batch/s, loss=0.357]\n"
     ]
    },
    {
     "name": "stdout",
     "output_type": "stream",
     "text": [
      "Epoch 71/100, Average Loss: 0.350364\n"
     ]
    },
    {
     "name": "stderr",
     "output_type": "stream",
     "text": [
      "Epoch 72/100: 100%|██████████| 56/56 [00:02<00:00, 22.45batch/s, loss=0.353]\n"
     ]
    },
    {
     "name": "stdout",
     "output_type": "stream",
     "text": [
      "Epoch 72/100, Average Loss: 0.340315\n"
     ]
    },
    {
     "name": "stderr",
     "output_type": "stream",
     "text": [
      "Epoch 73/100: 100%|██████████| 56/56 [00:02<00:00, 25.51batch/s, loss=0.344]\n"
     ]
    },
    {
     "name": "stdout",
     "output_type": "stream",
     "text": [
      "Epoch 73/100, Average Loss: 0.338041\n"
     ]
    },
    {
     "name": "stderr",
     "output_type": "stream",
     "text": [
      "Epoch 74/100: 100%|██████████| 56/56 [00:02<00:00, 25.65batch/s, loss=0.341]\n"
     ]
    },
    {
     "name": "stdout",
     "output_type": "stream",
     "text": [
      "Epoch 74/100, Average Loss: 0.335301\n"
     ]
    },
    {
     "name": "stderr",
     "output_type": "stream",
     "text": [
      "Epoch 75/100: 100%|██████████| 56/56 [00:02<00:00, 25.67batch/s, loss=0.337]\n"
     ]
    },
    {
     "name": "stdout",
     "output_type": "stream",
     "text": [
      "Epoch 75/100, Average Loss: 0.331020\n"
     ]
    },
    {
     "name": "stderr",
     "output_type": "stream",
     "text": [
      "Epoch 76/100: 100%|██████████| 56/56 [00:02<00:00, 25.59batch/s, loss=0.335]\n"
     ]
    },
    {
     "name": "stdout",
     "output_type": "stream",
     "text": [
      "Epoch 76/100, Average Loss: 0.328668\n"
     ]
    },
    {
     "name": "stderr",
     "output_type": "stream",
     "text": [
      "Epoch 77/100: 100%|██████████| 56/56 [00:02<00:00, 25.96batch/s, loss=0.335]\n"
     ]
    },
    {
     "name": "stdout",
     "output_type": "stream",
     "text": [
      "Epoch 77/100, Average Loss: 0.328983\n"
     ]
    },
    {
     "name": "stderr",
     "output_type": "stream",
     "text": [
      "Epoch 78/100: 100%|██████████| 56/56 [00:02<00:00, 26.11batch/s, loss=0.338]\n"
     ]
    },
    {
     "name": "stdout",
     "output_type": "stream",
     "text": [
      "Epoch 78/100, Average Loss: 0.331515\n"
     ]
    },
    {
     "name": "stderr",
     "output_type": "stream",
     "text": [
      "Epoch 79/100: 100%|██████████| 56/56 [00:02<00:00, 25.58batch/s, loss=0.332]\n"
     ]
    },
    {
     "name": "stdout",
     "output_type": "stream",
     "text": [
      "Epoch 79/100, Average Loss: 0.325714\n"
     ]
    },
    {
     "name": "stderr",
     "output_type": "stream",
     "text": [
      "Epoch 80/100: 100%|██████████| 56/56 [00:02<00:00, 23.87batch/s, loss=0.323]\n"
     ]
    },
    {
     "name": "stdout",
     "output_type": "stream",
     "text": [
      "Epoch 80/100, Average Loss: 0.323230\n"
     ]
    },
    {
     "name": "stderr",
     "output_type": "stream",
     "text": [
      "Epoch 81/100: 100%|██████████| 56/56 [00:02<00:00, 25.86batch/s, loss=0.337]\n"
     ]
    },
    {
     "name": "stdout",
     "output_type": "stream",
     "text": [
      "Epoch 81/100, Average Loss: 0.330659\n"
     ]
    },
    {
     "name": "stderr",
     "output_type": "stream",
     "text": [
      "Epoch 82/100: 100%|██████████| 56/56 [00:02<00:00, 25.18batch/s, loss=0.333]\n"
     ]
    },
    {
     "name": "stdout",
     "output_type": "stream",
     "text": [
      "Epoch 82/100, Average Loss: 0.327288\n"
     ]
    },
    {
     "name": "stderr",
     "output_type": "stream",
     "text": [
      "Epoch 83/100: 100%|██████████| 56/56 [00:02<00:00, 25.36batch/s, loss=0.326]\n"
     ]
    },
    {
     "name": "stdout",
     "output_type": "stream",
     "text": [
      "Epoch 83/100, Average Loss: 0.320556\n"
     ]
    },
    {
     "name": "stderr",
     "output_type": "stream",
     "text": [
      "Epoch 84/100: 100%|██████████| 56/56 [00:02<00:00, 26.23batch/s, loss=0.321]\n"
     ]
    },
    {
     "name": "stdout",
     "output_type": "stream",
     "text": [
      "Epoch 84/100, Average Loss: 0.315657\n"
     ]
    },
    {
     "name": "stderr",
     "output_type": "stream",
     "text": [
      "Epoch 85/100: 100%|██████████| 56/56 [00:02<00:00, 26.00batch/s, loss=0.322]\n"
     ]
    },
    {
     "name": "stdout",
     "output_type": "stream",
     "text": [
      "Epoch 85/100, Average Loss: 0.315774\n"
     ]
    },
    {
     "name": "stderr",
     "output_type": "stream",
     "text": [
      "Epoch 86/100: 100%|██████████| 56/56 [00:03<00:00, 14.03batch/s, loss=0.323]\n"
     ]
    },
    {
     "name": "stdout",
     "output_type": "stream",
     "text": [
      "Epoch 86/100, Average Loss: 0.317501\n"
     ]
    },
    {
     "name": "stderr",
     "output_type": "stream",
     "text": [
      "Epoch 87/100: 100%|██████████| 56/56 [00:03<00:00, 16.96batch/s, loss=0.339]\n"
     ]
    },
    {
     "name": "stdout",
     "output_type": "stream",
     "text": [
      "Epoch 87/100, Average Loss: 0.338517\n"
     ]
    },
    {
     "name": "stderr",
     "output_type": "stream",
     "text": [
      "Epoch 88/100: 100%|██████████| 56/56 [00:02<00:00, 22.09batch/s, loss=0.324]\n"
     ]
    },
    {
     "name": "stdout",
     "output_type": "stream",
     "text": [
      "Epoch 88/100, Average Loss: 0.318656\n"
     ]
    },
    {
     "name": "stderr",
     "output_type": "stream",
     "text": [
      "Epoch 89/100: 100%|██████████| 56/56 [00:02<00:00, 26.07batch/s, loss=0.322]\n"
     ]
    },
    {
     "name": "stdout",
     "output_type": "stream",
     "text": [
      "Epoch 89/100, Average Loss: 0.315977\n"
     ]
    },
    {
     "name": "stderr",
     "output_type": "stream",
     "text": [
      "Epoch 90/100: 100%|██████████| 56/56 [00:02<00:00, 26.03batch/s, loss=0.319]\n"
     ]
    },
    {
     "name": "stdout",
     "output_type": "stream",
     "text": [
      "Epoch 90/100, Average Loss: 0.313633\n"
     ]
    },
    {
     "name": "stderr",
     "output_type": "stream",
     "text": [
      "Epoch 91/100: 100%|██████████| 56/56 [00:02<00:00, 25.71batch/s, loss=0.317]\n"
     ]
    },
    {
     "name": "stdout",
     "output_type": "stream",
     "text": [
      "Epoch 91/100, Average Loss: 0.311230\n"
     ]
    },
    {
     "name": "stderr",
     "output_type": "stream",
     "text": [
      "Epoch 92/100: 100%|██████████| 56/56 [00:02<00:00, 25.96batch/s, loss=0.323]\n"
     ]
    },
    {
     "name": "stdout",
     "output_type": "stream",
     "text": [
      "Epoch 92/100, Average Loss: 0.311023\n"
     ]
    },
    {
     "name": "stderr",
     "output_type": "stream",
     "text": [
      "Epoch 93/100: 100%|██████████| 56/56 [00:02<00:00, 25.51batch/s, loss=0.316]\n"
     ]
    },
    {
     "name": "stdout",
     "output_type": "stream",
     "text": [
      "Epoch 93/100, Average Loss: 0.310417\n"
     ]
    },
    {
     "name": "stderr",
     "output_type": "stream",
     "text": [
      "Epoch 94/100: 100%|██████████| 56/56 [00:02<00:00, 25.39batch/s, loss=0.318]\n"
     ]
    },
    {
     "name": "stdout",
     "output_type": "stream",
     "text": [
      "Epoch 94/100, Average Loss: 0.312636\n"
     ]
    },
    {
     "name": "stderr",
     "output_type": "stream",
     "text": [
      "Epoch 95/100: 100%|██████████| 56/56 [00:02<00:00, 25.06batch/s, loss=0.314]\n"
     ]
    },
    {
     "name": "stdout",
     "output_type": "stream",
     "text": [
      "Epoch 95/100, Average Loss: 0.308766\n"
     ]
    },
    {
     "name": "stderr",
     "output_type": "stream",
     "text": [
      "Epoch 96/100: 100%|██████████| 56/56 [00:02<00:00, 25.36batch/s, loss=0.313]\n"
     ]
    },
    {
     "name": "stdout",
     "output_type": "stream",
     "text": [
      "Epoch 96/100, Average Loss: 0.307682\n"
     ]
    },
    {
     "name": "stderr",
     "output_type": "stream",
     "text": [
      "Epoch 97/100: 100%|██████████| 56/56 [00:02<00:00, 25.77batch/s, loss=0.313]\n"
     ]
    },
    {
     "name": "stdout",
     "output_type": "stream",
     "text": [
      "Epoch 97/100, Average Loss: 0.307755\n"
     ]
    },
    {
     "name": "stderr",
     "output_type": "stream",
     "text": [
      "Epoch 98/100: 100%|██████████| 56/56 [00:02<00:00, 25.86batch/s, loss=0.307]\n"
     ]
    },
    {
     "name": "stdout",
     "output_type": "stream",
     "text": [
      "Epoch 98/100, Average Loss: 0.301405\n"
     ]
    },
    {
     "name": "stderr",
     "output_type": "stream",
     "text": [
      "Epoch 99/100: 100%|██████████| 56/56 [00:02<00:00, 22.12batch/s, loss=0.3]  \n"
     ]
    },
    {
     "name": "stdout",
     "output_type": "stream",
     "text": [
      "Epoch 99/100, Average Loss: 0.299757\n"
     ]
    },
    {
     "name": "stderr",
     "output_type": "stream",
     "text": [
      "Epoch 100/100: 100%|██████████| 56/56 [00:02<00:00, 23.11batch/s, loss=0.305]\n"
     ]
    },
    {
     "name": "stdout",
     "output_type": "stream",
     "text": [
      "Epoch 100/100, Average Loss: 0.299443\n"
     ]
    },
    {
     "data": {
      "image/png": "[encoded data removed]",
      "text/plain": [
       "<Figure size 1000x1000 with 1 Axes>"
      ]
     },
     "metadata": {},
     "output_type": "display_data"
    }
   ],
   "source": [
    "if launch_train_flag:\n",
    "    model,losses = launch_train()\n",
    "    plot_losses(losses,lr= lr,encoder= model.encoder_sizes,decoder= model.decoder_sizes,epochs= epochs,show = True,figs= '.',prefix= 'emb',test_loss= 0)\n",
    "    torch.save(model.state_dict(), f\"model_{time.strftime('%Y%m%d-%H%M%S')}.pkl\")"
   ]
  },
  {
   "cell_type": "markdown",
   "metadata": {},
   "source": [
    "## 5. Inference"
   ]
  },
  {
   "cell_type": "markdown",
   "metadata": {},
   "source": [
    "Next, we will define the functions needed for inference, including a small gradio app to visualize outputs\n",
    "![inference](assets/inference.png)"
   ]
  },
  {
   "cell_type": "markdown",
   "metadata": {},
   "source": [
    "For instance, next theres an example of inputs and outputs\n",
    "![model_output](assets/model_output.png)"
   ]
  },
  {
   "cell_type": "code",
   "execution_count": 69,
   "metadata": {},
   "outputs": [],
   "source": [
    "def _get_inference_embedding(emb_file):\n",
    "    inference_vectors = []\n",
    "    with open(emb_file, \"r\") as f:\n",
    "        reader = csv.reader(f, delimiter='|')\n",
    "        for row in reader:\n",
    "            configid = row[0]\n",
    "            vectors = row[1:]\n",
    "            vectors = [ast.literal_eval(vector) for vector in vectors]\n",
    "            inference_vectors.append(torch.tensor(vectors, dtype=torch.float32))\n",
    "        t_0 = inference_vectors[0]\n",
    "        t_1 = inference_vectors[1]\n",
    "        t = torch.stack((t_0,t_1))\n",
    "        inference_input = t.view(-1, 2*MM_EMB_DIMS)\n",
    "    return inference_input\n",
    "\n",
    "def predict_item(model,inference_dir,dev,engine=None):\n",
    "    #Clear dirs\n",
    "    shutil.rmtree(os.path.join(EMBEDDINGS_DIR,INFERENCE_DIR),ignore_errors=True)\n",
    "    #shutil.rmtree(os.path.join(CROPPED_DIR,INFERENCE_DIR),ignore_errors=True)\n",
    "    #preprocess_images(inference_dir,OBJECT_CATEGORY,True)\n",
    "    gen_embeddings(os.path.join(CROPPED_DIR,INFERENCE_DIR),True,LOCAL)\n",
    "    outputs = []\n",
    "    for incomplete_look in os.listdir(os.path.join(EMBEDDINGS_DIR,INFERENCE_DIR)):\n",
    "        if not incomplete_look.startswith('.'):\n",
    "            logging.info(f\"Processing {incomplete_look}...\")\n",
    "            emb_file = os.path.join(EMBEDDINGS_DIR,INFERENCE_DIR,incomplete_look,EMB_FILE_NAME)\n",
    "            inference_input = _get_inference_embedding(emb_file).to(dev)\n",
    "            model.eval()\n",
    "            output = model(inference_input)\n",
    "            top_elements = search_closest(output,emb_kv_database,TOP_K,dev,engine)\n",
    "            outputs.append(top_elements)\n",
    "    return outputs"
   ]
  },
  {
   "cell_type": "code",
   "execution_count": 75,
   "metadata": {
    "tags": []
   },
   "outputs": [
    {
     "name": "stderr",
     "output_type": "stream",
     "text": [
      "INFO:httpx:HTTP Request: GET http://127.0.0.1:7862/startup-events \"HTTP/1.1 200 OK\"\n",
      "INFO:httpx:HTTP Request: HEAD http://127.0.0.1:7862/ \"HTTP/1.1 200 OK\"\n",
      "INFO:httpx:HTTP Request: GET https://api.gradio.app/pkg-version \"HTTP/1.1 200 OK\"\n",
      "INFO:httpx:HTTP Request: POST https://api.gradio.app/gradio-initiated-analytics/ \"HTTP/1.1 200 OK\"\n"
     ]
    },
    {
     "name": "stdout",
     "output_type": "stream",
     "text": [
      "Running on local URL:  http://127.0.0.1:7862\n"
     ]
    },
    {
     "name": "stderr",
     "output_type": "stream",
     "text": [
      "INFO:httpx:HTTP Request: GET https://api.gradio.app/v2/tunnel-request \"HTTP/1.1 200 OK\"\n"
     ]
    },
    {
     "name": "stdout",
     "output_type": "stream",
     "text": [
      "Running on public URL: https://e67bd7714ff92632f4.gradio.live\n",
      "\n",
      "This share link expires in 72 hours. For free permanent hosting and GPU upgrades, run `gradio deploy` from Terminal to deploy to Spaces (https://huggingface.co/spaces)\n"
     ]
    },
    {
     "name": "stderr",
     "output_type": "stream",
     "text": [
      "INFO:httpx:HTTP Request: HEAD https://e67bd7714ff92632f4.gradio.live \"HTTP/1.1 200 OK\"\n"
     ]
    },
    {
     "data": {
      "text/html": [
       "<div><iframe src=\"https://e67bd7714ff92632f4.gradio.live\" width=\"100%\" height=\"500\" allow=\"autoplay; camera; microphone; clipboard-read; clipboard-write;\" frameborder=\"0\" allowfullscreen></iframe></div>"
      ],
      "text/plain": [
       "<IPython.core.display.HTML object>"
      ]
     },
     "metadata": {},
     "output_type": "display_data"
    },
    {
     "name": "stderr",
     "output_type": "stream",
     "text": [
      "INFO:httpx:HTTP Request: POST https://api.gradio.app/gradio-launched-telemetry/ \"HTTP/1.1 200 OK\"\n",
      "Processing image sets:   0%|          | 0/1 [00:00<?, ?set/s]/opt/conda/envs/pytorch/lib/python3.10/site-packages/torchvision/models/_utils.py:208: UserWarning: The parameter 'pretrained' is deprecated since 0.13 and may be removed in the future, please use 'weights' instead.\n",
      "  warnings.warn(\n",
      "/opt/conda/envs/pytorch/lib/python3.10/site-packages/torchvision/models/_utils.py:223: UserWarning: Arguments other than a weight enum or `None` for 'weights' are deprecated since 0.13 and may be removed in the future. The current behavior is equivalent to passing `weights=ResNet18_Weights.IMAGENET1K_V1`. You can also use `weights=ResNet18_Weights.DEFAULT` to get the most up-to-date weights.\n",
      "  warnings.warn(msg)\n",
      "Processing image sets: 100%|██████████| 1/1 [00:00<00:00,  1.52set/s]\n",
      "INFO:root:Processing look...\n",
      "INFO:root:top_elements is ['look_134-0.png', 'look_166-0.png', 'look_53-0.png']\n",
      "INFO:root:look_134-0.png\n",
      "INFO:root:look_166-0.png\n",
      "INFO:root:look_53-0.png\n"
     ]
    }
   ],
   "source": [
    "engine = 'chromadb'\n",
    "if lanch_ui_predict:\n",
    "        def predict(files):\n",
    "            shutil.rmtree(os.path.join(CROPPED_DIR,INFERENCE_DIR),ignore_errors=True)\n",
    "            Path(os.path.join(CROPPED_DIR,INFERENCE_DIR,\"look\")).mkdir(parents=True, exist_ok=True)\n",
    "            for file in files:\n",
    "                path = os.path.join(CROPPED_DIR,INFERENCE_DIR,\"look\",os.path.basename(file))\n",
    "                shutil.copyfile(file.name, path)    \n",
    "            top_elements = predict_item(model,INFERENCE_DIR,dev,engine)\n",
    "            if engine == \"chromadb\":\n",
    "                top_elements = top_elements[0]['ids'][0]\n",
    "                logging.info(f\"top_elements is {top_elements}\")\n",
    "                if dataset == \"fashion_mnist\":\n",
    "                    pattern = re.compile(r'look_(\\d+)-(\\d+)')\n",
    "                    logging.info(top_elements[0])\n",
    "                    logging.info(top_elements[1])\n",
    "                    logging.info(top_elements[2])\n",
    "                    match_0_image = os.path.join(CROPPED_DIR,\"look_\"+pattern.match(top_elements[0]).group(1),pattern.match(top_elements[0]).group(2)+\".png\")\n",
    "                    match_1_image = os.path.join(CROPPED_DIR,\"look_\"+pattern.match(top_elements[1]).group(1),pattern.match(top_elements[1]).group(2)+\".png\")\n",
    "                    match_2_image = os.path.join(CROPPED_DIR,\"look_\"+pattern.match(top_elements[2]).group(1),pattern.match(top_elements[2]).group(2)+\".png\")\n",
    "                elif dataset == \"chictopia\":\n",
    "                    pattern = re.compile(r'(\\d+)-([a-zA-Z_]+)\\.png')\n",
    "                    logging.info(top_elements[0])\n",
    "                    logging.info(top_elements[1])\n",
    "                    logging.info(top_elements[2])\n",
    "                    match_0_image = os.path.join(CROPPED_DIR,pattern.match(top_elements[0]).group(1),pattern.match(top_elements[0]).group(2)+\".png\")\n",
    "                    match_1_image = os.path.join(CROPPED_DIR,pattern.match(top_elements[1]).group(1),pattern.match(top_elements[1]).group(2)+\".png\")\n",
    "                    match_2_image = os.path.join(CROPPED_DIR,pattern.match(top_elements[2]).group(1),pattern.match(top_elements[2]).group(2)+\".png\")\n",
    "            return [Image.open(match_0_image),Image.open(match_1_image),Image.open(match_2_image)]\n",
    "\n",
    "        demo = gr.Interface(\n",
    "          fn=predict,\n",
    "          inputs=gr.File(file_count=\"multiple\", label=None),\n",
    "          outputs=gr.Gallery(preview=True),\n",
    "        )\n",
    "        demo.launch(share=True) "
   ]
  }
 ],
 "metadata": {
  "environment": {
   "kernel": "conda-env-pytorch-pytorch",
   "name": "workbench-notebooks.m113",
   "type": "gcloud",
   "uri": "gcr.io/deeplearning-platform-release/workbench-notebooks:m113"
  },
  "kernelspec": {
   "display_name": "PyTorch 1-13 (Local)",
   "language": "python",
   "name": "conda-env-pytorch-pytorch"
  },
  "language_info": {
   "codemirror_mode": {
    "name": "ipython",
    "version": 3
   },
   "file_extension": ".py",
   "mimetype": "text/x-python",
   "name": "python",
   "nbconvert_exporter": "python",
   "pygments_lexer": "ipython3",
   "version": "3.10.13"
  }
 },
 "nbformat": 4,
 "nbformat_minor": 4
}
